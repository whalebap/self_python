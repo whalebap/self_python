{
 "cells": [
  {
   "cell_type": "code",
   "execution_count": 1,
   "metadata": {},
   "outputs": [
    {
     "name": "stdout",
     "output_type": "stream",
     "text": [
      "ㅋㅋㅋㅋㅋㅋㅋㅋㅋ\n"
     ]
    }
   ],
   "source": [
    "print(\"ㅋ\"*9) #문자열과 정수를 섞어서 프린트할 수 있다."
   ]
  },
  {
   "cell_type": "code",
   "execution_count": 2,
   "metadata": {},
   "outputs": [
    {
     "name": "stdout",
     "output_type": "stream",
     "text": [
      "False\n"
     ]
    }
   ],
   "source": [
    "print(5>10)"
   ]
  },
  {
   "cell_type": "code",
   "execution_count": 3,
   "metadata": {},
   "outputs": [
    {
     "name": "stdout",
     "output_type": "stream",
     "text": [
      "우리집 고양이 이름은 완두이고 나이는 4죠. 완두이는 어른일까요? True\n",
      "우리집 고양이 이름은 완두 이고 나이는 4 죠.  완두 이는 어른일까요? True\n"
     ]
    }
   ],
   "source": [
    "#str(정수, boolean) 하면 정수형, 불리언이 문자로 나옴. \n",
    "name = \"완두\"\n",
    "age = 4\n",
    "is_adult= age >=3\n",
    "\n",
    "print(\"우리집 고양이 이름은 \"+name+\"이고 나이는 \"+str(age)+\"죠. \"+name+\"이는 어른일까요? \"+str(is_adult))\n",
    "print(\"우리집 고양이 이름은\",name,\"이고 나이는\",age,\"죠. \",name,\"이는 어른일까요?\",(is_adult))\n",
    "# +대신 ,을 써도 됨. 그럼 str으로 변환 x. ,는 스페이스바 공백 하나를 포함함. "
   ]
  },
  {
   "cell_type": "code",
   "execution_count": 4,
   "metadata": {},
   "outputs": [],
   "source": [
    "#주석처리 \n",
    "#여러문장 선택후 컨트롤 / 해도 됨 "
   ]
  },
  {
   "cell_type": "code",
   "execution_count": 5,
   "metadata": {},
   "outputs": [
    {
     "name": "stdout",
     "output_type": "stream",
     "text": [
      "사당행 열차가 들어오고 있습니다\n",
      "사당 행 열차가 들어오고 있습니다\n",
      "신도림행 열차가 들어오고 있습니다\n",
      "신도림 행 열차가 들어오고 있습니다\n",
      "인천공항행 열차가 들어오고 있습니다\n",
      "인천공항 행 열차가 들어오고 있습니다\n"
     ]
    }
   ],
   "source": [
    "# #퀴즈 \n",
    "# # 변수명 station\n",
    "# 변수값은 사당, 신도림, 인천공항 \n",
    "# 이 문장을 xx행 열차가 들어오고 있습니다로. \n",
    "\n",
    "station = ['사당', '신도림', '인천공항']\n",
    "\n",
    "for i in station : \n",
    "    print(i+'행 열차가 들어오고 있습니다')\n",
    "    print(i,'행 열차가 들어오고 있습니다')"
   ]
  },
  {
   "cell_type": "code",
   "execution_count": 6,
   "metadata": {},
   "outputs": [
    {
     "name": "stdout",
     "output_type": "stream",
     "text": [
      "5\n",
      "16\n",
      "12\n",
      "3\n",
      "4\n",
      "4\n",
      "4.0\n"
     ]
    }
   ],
   "source": [
    "#숫자처리 함수\n",
    "print(abs(-5)) #절대값\n",
    "print(pow(4,2)) #4의 제곱\n",
    "print(max(12,5)) #최대값, 최고값은 min\n",
    "print(round(3.14)) \n",
    "\n",
    "# 매스 라이브러리 사용하기\n",
    "from math import *\n",
    "print(floor(4.99)) #내림\n",
    "print(ceil(3.14)) #올림\n",
    "print(sqrt(16)) #제곱근\n",
    "\n"
   ]
  },
  {
   "cell_type": "code",
   "execution_count": 7,
   "metadata": {},
   "outputs": [
    {
     "name": "stdout",
     "output_type": "stream",
     "text": [
      "0.026725841239358727\n",
      "5.501696492165459\n",
      "7\n",
      "7\n",
      "5\n",
      "18\n",
      "28\n"
     ]
    }
   ],
   "source": [
    "#랜덤함수\n",
    "from random import *\n",
    "print(random()) #0.0.~1.0 미만의 임의의 값 생성\n",
    "\n",
    "print(random()*10)\n",
    "print(int(random()*10))\n",
    "print(int(random()*10)+1) #1~10이하의 임의의 값 생성 \n",
    "\n",
    "print(int(random()*45)+1)\n",
    "\n",
    "print(randrange(1, 46)) #1부터 46미만의 임의의 값 생성\n",
    "\n",
    "print(randint(1, 45)) #1~45 둘다 포함하는 정수 생성"
   ]
  },
  {
   "cell_type": "code",
   "execution_count": 8,
   "metadata": {},
   "outputs": [
    {
     "name": "stdout",
     "output_type": "stream",
     "text": [
      "오프라인 스터디 모임 날짜는 매월  28 일로 선정되었습니다\n",
      "오프라인 스터디 모임 날짜는 매월  12 일로 선정되었습니다\n"
     ]
    }
   ],
   "source": [
    "# 당신은 최근에 코딩스터디 모임을 새로 만들었습니다\n",
    "# 월 4회 스터디를 하는데 3번은 온라인, 1번은 오프라인 입니다.\n",
    "# 아래 조건에서 오프라인 모임 날짜를 정해주는 프로그램을 작성하시오. \n",
    "\n",
    "# 조건 1 : 랜덤으로 날짜를 뽑아야 함\n",
    "# 조건 2 : 월별 날짜는 다름을 감안하여 최소 일수인 28일 이내로 정함 \n",
    "# 조건 3 : 매월 1~3일은 스터디 준비를 해야하므로 제외 \n",
    "    \n",
    "# 출력문 : 오프라인 스터디 모임 날짜는 매월 x 일로 선정되었습니다. \n",
    "    \n",
    "\n",
    "print('오프라인 스터디 모임 날짜는 매월 ',randrange(4, 29),'일로 선정되었습니다')\n",
    "print('오프라인 스터디 모임 날짜는 매월 ',randint(4, 28),'일로 선정되었습니다')"
   ]
  },
  {
   "cell_type": "code",
   "execution_count": 9,
   "metadata": {},
   "outputs": [
    {
     "name": "stdout",
     "output_type": "stream",
     "text": [
      "성별 1\n"
     ]
    }
   ],
   "source": [
    "#슬라이싱\n",
    "# 필요한 정보만 가져오는 것이 슬라이싱.\n",
    "jumin = '991010-1234567'\n",
    "print('성별',jumin[7])"
   ]
  },
  {
   "cell_type": "code",
   "execution_count": 10,
   "metadata": {},
   "outputs": [
    {
     "name": "stdout",
     "output_type": "stream",
     "text": [
      "python is amazing\n",
      "PYTHON IS AMAZING\n",
      "True\n",
      "17\n",
      "Java is Amazing\n",
      "5\n",
      "15\n",
      "5\n",
      "-1\n",
      "2\n"
     ]
    }
   ],
   "source": [
    "python = 'Python is Amazing'\n",
    "print(python.lower()) #소문자화\n",
    "print(python.upper()) #대문자화 \n",
    "print(python[0].isupper()) #소문자인지 boolean\n",
    "print(len(python)) #길이\n",
    "print(python.replace('Python', 'Java')) #치환\n",
    "\n",
    "index = python.index('n') #n이 몇번째 위치냐\n",
    "print(index)\n",
    "index = python.index('n', index+1) #앞에서 찾은(index) 다음부터 계산해서 n이 나오는 걸 찾음. =두번째 n을 찾음.\n",
    "print(index)\n",
    "\n",
    "print(python.find('n')) #의 위치를 찾아줌 \n",
    "print(python.find('svt')) #값이 없으면 -1을 리턴함 \n",
    "#print(python.index('svt')) 하면 index 자체가 없어서 에러가 남. \n",
    "\n",
    "print(python.count('n')) #n이 몇번 나오나 "
   ]
  },
  {
   "cell_type": "code",
   "execution_count": 11,
   "metadata": {},
   "outputs": [
    {
     "name": "stdout",
     "output_type": "stream",
     "text": [
      "ab\n",
      "a b\n",
      "나는 20살입니다\n",
      "나는 하늘색과 노란색을 좋아해요\n",
      "나는 25살입니다\n",
      "나는 두유와 요거트을 좋아해요\n",
      "나는 두유와 요거트을 좋아해요\n",
      "나는 20살이며, 빨간색을 좋아해요\n",
      "나는 20살이며 로즈색을 좋아해요.\n"
     ]
    }
   ],
   "source": [
    "print(\"a\"+\"b\")\n",
    "print(\"a\", \"b\")\n",
    "\n",
    "#방법 1\n",
    "print('나는 %d살입니다' % 20) # %뒤에 있는 값을 % 위치에 넣겠다 \n",
    "print('나는 %s색과 %s색을 좋아해요' % ('하늘', '노란')) \n",
    "\n",
    "#방법2\n",
    "print('나는 {}살입니다'.format(25))\n",
    "print('나는 {}와 {}을 좋아해요'.format('두유', '요거트'))\n",
    "print('나는 {0}와 {1}을 좋아해요'.format('두유', '요거트')) #포맷 뒤에 있는 값들에 숫자를 부여해서 앞에 그 값을 넣음. \n",
    "\n",
    "#방법3\n",
    "print('나는 {age}살이며, {color}색을 좋아해요'.format(age=20, color=\"빨간\")) #변수처럼 쓸 수 있네\n",
    "\n",
    "#방법4 파이썬 3.6 이상부터 가능\n",
    "age = 20\n",
    "color = '로즈'\n",
    "print(f\"나는 {age}살이며 {color}색을 좋아해요.\") #앞에 f를 붙여준다. \n"
   ]
  },
  {
   "cell_type": "code",
   "execution_count": 12,
   "metadata": {},
   "outputs": [
    {
     "name": "stdout",
     "output_type": "stream",
     "text": [
      "백문이 불여일견 백견이 불여일타\n",
      "백문이 불여일견 \n",
      " 백견이 불여일타\n",
      "나는 '캐럿'입니다\n",
      "저는 \"캐럿\"입니다\n",
      "저는 \"나도코딩\"입니다.\n",
      "Red Apple\r",
      "Pine\n",
      "Redd\bApple\n",
      "Red\tApple\n"
     ]
    }
   ],
   "source": [
    "print('백문이 불여일견 백견이 불여일타')\n",
    "print('백문이 불여일견 \\n 백견이 불여일타') # 역슬래시n\n",
    "\n",
    "print(\"나는 '캐럿'입니다\")\n",
    "print('저는 \"캐럿\"입니다') #스트링 안에 \"\" 넣기\n",
    "\n",
    "#탈출문자\n",
    "print(\"저는 \\\"나도코딩\\\"입니다.\") #역슬러시 + ', \" 하면 문장 내에서 ', \"을 쓸 수 있다. \n",
    "\n",
    "#문장 내에서 역슬러시를 두번 쓰면 파일 경로를 의미하는 걸로 쓸 수 있다. \n",
    "\n",
    "# 역슬러시 r : 커서를 맨 앞으로 이동\n",
    "print(\"Red Apple\\rPine\") # PineApple 이라고 나옴. 커서를 앞으로 옮겨서 그 단어를 출력함. \n",
    "\n",
    "# 역슬러시 b : 백스페이스 \n",
    "print(\"Redd\\bApple\") #RedApple을 인출함.\n",
    "\n",
    "# 역슬러시 t : tap\n",
    "print(\"Red\\tApple\")\n"
   ]
  },
  {
   "cell_type": "code",
   "execution_count": 13,
   "metadata": {},
   "outputs": [
    {
     "name": "stdout",
     "output_type": "stream",
     "text": [
      "oeker\n",
      "oek 5 2 !\n"
     ]
    }
   ],
   "source": [
    "#사이트별로 비밀번호를 만들어주는 프로그램을 작성하시오 \n",
    "# http://naver.com\n",
    "#     규칙 1 : http:// 부분은 제외 -> naver.com\n",
    "#     규칙 2 : 처음 만나는 점(.) 이후 부분은 제외 -> naver\n",
    "#     규칙 3 : 남은 글자 중 처음 세자리 + 글자 갯수 + 글자 내 'e' 갯수 + \"!\"로 구성.\n",
    "\n",
    "#url = 'http://naver.com'\n",
    "url = 'http://oeker.net'\n",
    "password = url[7:12]\n",
    "print(password)\n",
    "password1 = password[0:3]\n",
    "password2 = len(password)\n",
    "password3 = password.count('e')\n",
    "print(password1, password2, password3, \"!\")"
   ]
  },
  {
   "cell_type": "code",
   "execution_count": 14,
   "metadata": {},
   "outputs": [
    {
     "name": "stdout",
     "output_type": "stream",
     "text": [
      "1\n",
      "원우\n",
      "['원우', '정한', '호시', '지수']\n",
      "[96, 97, 99, 95, '원우', '정한', '호시', '지수', 13]\n"
     ]
    }
   ],
   "source": [
    "#리스트 \n",
    "svt=['원우', '정한', '지수']\n",
    "print(svt.index('정한'))\n",
    "print(svt[0]) #둘의 차이 알기 \n",
    "\n",
    "svt.insert(2, '호시') #넣고자하는 순서 먼저 넣기 \n",
    "print(svt)\n",
    "\n",
    "svt.append(13) #리스트라 데이터타입 달라도 됨 \n",
    "\n",
    "gf = [96,97,99,95]\n",
    "\n",
    "gf.extend(svt) #리스트끼리 합치기 \n",
    "print(gf)"
   ]
  },
  {
   "cell_type": "code",
   "execution_count": 15,
   "metadata": {},
   "outputs": [
    {
     "name": "stdout",
     "output_type": "stream",
     "text": [
      "{'h': '쿱밍원논', 'v': '윤홍웆겸부', 'p': '준홋팔찬'}\n",
      "dict_keys(['h', 'v', 'p'])\n",
      "dict_values(['쿱밍원논', '윤홍웆겸부', '준홋팔찬'])\n",
      "dict_items([('h', '쿱밍원논'), ('v', '윤홍웆겸부'), ('p', '준홋팔찬')])\n"
     ]
    }
   ],
   "source": [
    "svt = {'h' : '쿱원밍논', 'v':'윤홍웆겸부', 'p':'준홋팔찬'}\n",
    "svt['h']= '쿱밍원논'\n",
    "print(svt)\n",
    "\n",
    "\n",
    "print(svt.keys())\n",
    "print(svt.values())\n",
    "print(svt.items()) #key and value로 나타내기 \n"
   ]
  },
  {
   "cell_type": "code",
   "execution_count": 16,
   "metadata": {},
   "outputs": [
    {
     "name": "stdout",
     "output_type": "stream",
     "text": [
      "돈까스\n",
      "치즈까스\n",
      "원우 25 게임\n",
      "전원우 20 독서\n"
     ]
    }
   ],
   "source": [
    "#튜플 : 리스트와 달리 내용 변경이나 추가를 할 수 없음. 대신 속도는 리스트보다 빠르다. \n",
    "menu = ('돈까스', '치즈까스')\n",
    "print(menu[0])\n",
    "print(menu[1])\n",
    "#menu.add('생선까스')\n",
    "\n",
    "name = '원우'\n",
    "age = 25\n",
    "hobby = '게임'\n",
    "print(name, age, hobby)\n",
    "\n",
    "(name, age, hobby) = (\"전원우\", 20, '독서')\n",
    "print(name, age, hobby) #다른 변수들을 한번에 묶어줄 때 튜플을 쓰면 된다. "
   ]
  },
  {
   "cell_type": "code",
   "execution_count": 17,
   "metadata": {},
   "outputs": [
    {
     "name": "stdout",
     "output_type": "stream",
     "text": [
      "{1, 2, 3}\n",
      "{1, 3}\n",
      "{1, 3, 5}\n"
     ]
    }
   ],
   "source": [
    "#세트 : 집합. 중복 x, 순서x\n",
    "my_set = {1,2,3,3}\n",
    "print(my_set) # 중복이 있어도 제거됨.\n",
    "\n",
    "my_set.remove(2)\n",
    "print(my_set)\n",
    "\n",
    "my_set.add(5)\n",
    "print(my_set)"
   ]
  },
  {
   "cell_type": "code",
   "execution_count": 18,
   "metadata": {},
   "outputs": [
    {
     "name": "stdout",
     "output_type": "stream",
     "text": [
      "{'주스', '우유', '커피'} <class 'set'>\n",
      "['주스', '우유', '커피'] <class 'list'>\n",
      "('주스', '우유', '커피') <class 'tuple'>\n"
     ]
    }
   ],
   "source": [
    "#자료 구조의 변경 \n",
    "menu = {\"커피\", \"우유\", \"주스\"}\n",
    "print(menu, type(menu)) #중괄호\n",
    "\n",
    "menu = list(menu) #set을 list로 타입 변경\n",
    "print(menu, type(menu)) #대괄호\n",
    "\n",
    "menu = tuple(menu)\n",
    "print(menu, type(menu)) #소괄호"
   ]
  },
  {
   "cell_type": "code",
   "execution_count": 19,
   "metadata": {},
   "outputs": [
    {
     "name": "stdout",
     "output_type": "stream",
     "text": [
      "<class 'range'>\n",
      "[1, 2, 3, 4, 5, 6, 7, 8, 9, 10, 11, 12, 13, 14, 15, 16, 17, 18, 19, 20]\n",
      "[17, 18, 15, 3, 7, 19, 5, 6, 10, 16, 13, 4, 8, 12, 20, 9, 2, 11, 1, 14]\n",
      "[14, 6, 12, 3]\n",
      "-당첨자 발표-\n",
      "커피 당첨자 : 14\n",
      "치킨 당첨자 : [6, 12, 3]\n"
     ]
    }
   ],
   "source": [
    "#당신의 학교에서는 파이썬 코딩대회를 주최합니다.\n",
    "# 댓글 이벤트가 있습니다.\n",
    "# 추첨을 통해 1명은 치킨, 3명은 커피 쿠폰을 받습니다.\n",
    "# 추천 프로그램을 작성하시오.\n",
    "\n",
    "# 조건 1 : 편의상 댓글은 20명이 작성, 아이디는 1~20입니다.\n",
    "# 조건 2 : 댓글 내용은 상관 없이 무작위로 추첨하되 중복 불가 \n",
    "# 조건 3 : random 모듈의 suffle과 sample을 활용 \n",
    "    \n",
    "#     출력예제\n",
    "# - 당첨자 발표 -\n",
    "# 치킨 당첨자 : 1\n",
    "# 커피 당첨자 : [2,3,4]\n",
    "# - 축하합니다 -\n",
    "\n",
    "# suffle(list) 하면 리스트 안에 있는 값을 무작위로 순서 바꿈\n",
    "# sample(list, 1) 하면 list 안에서 1개를 뽑는다란 뜻. \n",
    "\n",
    "from random import *\n",
    "\n",
    "users = range(1, 21)\n",
    "print(type(users)) #타입이레인지가 나옴. \n",
    "users = list(users) #고로 list로 바꿔놓는다. \n",
    "print(users)\n",
    "\n",
    "shuffle(users)\n",
    "print(users)\n",
    "\n",
    "winners= sample(users, 4)\n",
    "print(winners)\n",
    "\n",
    "print(\"-당첨자 발표-\")\n",
    "print(\"커피 당첨자 : {0}\".format(winners[0]))\n",
    "print(\"치킨 당첨자 : {0}\".format(winners[1:]))\n",
    "     "
   ]
  },
  {
   "cell_type": "code",
   "execution_count": 20,
   "metadata": {},
   "outputs": [
    {
     "name": "stdout",
     "output_type": "stream",
     "text": [
      "기온은 어때요?15\n",
      "괜찮은 날씨에요\n"
     ]
    }
   ],
   "source": [
    "temp = int(input(\"기온은 어때요?\")) #input창이 생김. \n",
    "if 30 <= temp : print('너무 더워요. 나가지 마세요.')\n",
    "elif 10<=temp and temp <=30 : print('괜찮은 날씨에요')\n",
    "elif 0<= temp <10 : print('외투를 챙기세요')\n",
    "else : print('추워요. 나가지 마요')"
   ]
  },
  {
   "cell_type": "code",
   "execution_count": 25,
   "metadata": {},
   "outputs": [
    {
     "name": "stdout",
     "output_type": "stream",
     "text": [
      "대기번호 : 1\n",
      "--------\n",
      "대기번호 : 2\n",
      "--------\n",
      "대기번호 : 3\n",
      "--------\n",
      "대기번호 : 4\n",
      "--------\n",
      "대기번호 : 5\n",
      "--------\n"
     ]
    }
   ],
   "source": [
    "for waiting in range(1,6) : \n",
    "    print(\"대기번호 : {0}\".format(waiting))\n"
   ]
  },
  {
   "cell_type": "code",
   "execution_count": 27,
   "metadata": {},
   "outputs": [
    {
     "name": "stdout",
     "output_type": "stream",
     "text": [
      "유주, 커피가 준비 됐습니다. 5번 남았어요\n",
      "유주, 커피가 준비 됐습니다. 4번 남았어요\n",
      "유주, 커피가 준비 됐습니다. 3번 남았어요\n",
      "유주, 커피가 준비 됐습니다. 2번 남았어요\n",
      "유주, 커피가 준비 됐습니다. 1번 남았어요\n",
      "커피는 폐기처분됐습니다. \n",
      "은하, 커피 준비 됐습니다.\n",
      "이름이 어떻게 되세요?플디\n",
      "은하, 커피 준비 됐습니다.\n",
      "이름이 어떻게 되세요?빅히트\n",
      "은하, 커피 준비 됐습니다.\n",
      "이름이 어떻게 되세요?은아\n",
      "은하, 커피 준비 됐습니다.\n",
      "이름이 어떻게 되세요?은하\n"
     ]
    }
   ],
   "source": [
    "#while \n",
    "customer = '유주'\n",
    "index = 5\n",
    "while index >=1 : \n",
    "    print('{0}, 커피가 준비 됐습니다. {1}번 남았어요'.format(customer, index))\n",
    "    index -= 1\n",
    "    if index == 0 : \n",
    "        print('커피는 폐기처분됐습니다. ')\n",
    "        \n",
    "customer = '은하'\n",
    "person = '방문객'\n",
    "\n",
    "while person != customer : \n",
    "    print(\"{0}, 커피 준비 됐습니다.\".format(customer))\n",
    "    person = input('이름이 어떻게 되세요?')\n",
    "    "
   ]
  },
  {
   "cell_type": "code",
   "execution_count": 37,
   "metadata": {},
   "outputs": [
    {
     "name": "stdout",
     "output_type": "stream",
     "text": [
      "[1, 2, 3, 4, 5]\n",
      "[101, 102, 103, 104, 105]\n"
     ]
    }
   ],
   "source": [
    "#한줄 for문 \n",
    "#출석번호가 101,102, ...\n",
    "\n",
    "students = list(range(1, 6))\n",
    "print(students)\n",
    "\n",
    "students = [i+100 for i in students] #students 안에서 i를 뽑아낸 후 i에 100을 더한 값으로 원자를 삼겠다.\n",
    "print(students)\n"
   ]
  },
  {
   "cell_type": "code",
   "execution_count": 43,
   "metadata": {},
   "outputs": [
    {
     "name": "stdout",
     "output_type": "stream",
     "text": [
      "[  ] 1번째 손님 (소요시간 : 29분)\n",
      "[  ] 2번째 손님 (소요시간 : 43분)\n",
      "[  ] 3번째 손님 (소요시간 : 23분)\n",
      "[  ] 4번째 손님 (소요시간 : 30분)\n",
      "[O] 5번째 손님 (소요시간 : 15분)\n",
      "[  ] 6번째 손님 (소요시간 : 30분)\n",
      "[  ] 7번째 손님 (소요시간 : 27분)\n",
      "[  ] 8번째 손님 (소요시간 : 41분)\n",
      "[O] 9번째 손님 (소요시간 : 7분)\n",
      "[  ] 10번째 손님 (소요시간 : 17분)\n",
      "[  ] 11번째 손님 (소요시간 : 23분)\n",
      "[  ] 12번째 손님 (소요시간 : 29분)\n",
      "[  ] 13번째 손님 (소요시간 : 30분)\n",
      "[  ] 14번째 손님 (소요시간 : 23분)\n",
      "[O] 15번째 손님 (소요시간 : 7분)\n",
      "[  ] 16번째 손님 (소요시간 : 21분)\n",
      "[  ] 17번째 손님 (소요시간 : 29분)\n",
      "[  ] 18번째 손님 (소요시간 : 25분)\n",
      "[O] 19번째 손님 (소요시간 : 9분)\n",
      "[O] 20번째 손님 (소요시간 : 14분)\n",
      "[  ] 21번째 손님 (소요시간 : 30분)\n",
      "[  ] 22번째 손님 (소요시간 : 23분)\n",
      "[  ] 23번째 손님 (소요시간 : 42분)\n",
      "[O] 24번째 손님 (소요시간 : 12분)\n",
      "[O] 25번째 손님 (소요시간 : 10분)\n",
      "[  ] 26번째 손님 (소요시간 : 40분)\n",
      "[  ] 27번째 손님 (소요시간 : 23분)\n",
      "[O] 28번째 손님 (소요시간 : 8분)\n",
      "[  ] 29번째 손님 (소요시간 : 37분)\n",
      "[  ] 30번째 손님 (소요시간 : 17분)\n",
      "[  ] 31번째 손님 (소요시간 : 36분)\n",
      "[  ] 32번째 손님 (소요시간 : 40분)\n",
      "[O] 33번째 손님 (소요시간 : 15분)\n",
      "[  ] 34번째 손님 (소요시간 : 43분)\n",
      "[  ] 35번째 손님 (소요시간 : 45분)\n",
      "[O] 36번째 손님 (소요시간 : 9분)\n",
      "[  ] 37번째 손님 (소요시간 : 17분)\n",
      "[  ] 38번째 손님 (소요시간 : 34분)\n",
      "[  ] 39번째 손님 (소요시간 : 49분)\n",
      "[  ] 40번째 손님 (소요시간 : 37분)\n",
      "[O] 41번째 손님 (소요시간 : 8분)\n",
      "[  ] 42번째 손님 (소요시간 : 36분)\n",
      "[  ] 43번째 손님 (소요시간 : 37분)\n",
      "[  ] 44번째 손님 (소요시간 : 35분)\n",
      "[  ] 45번째 손님 (소요시간 : 32분)\n",
      "[  ] 46번째 손님 (소요시간 : 27분)\n",
      "[  ] 47번째 손님 (소요시간 : 43분)\n",
      "[O] 48번째 손님 (소요시간 : 15분)\n",
      "[  ] 49번째 손님 (소요시간 : 37분)\n",
      "[  ] 50번째 손님 (소요시간 : 25분)\n",
      "총 탑승 승객 12\n"
     ]
    }
   ],
   "source": [
    "# 당신은 택시 기사다. 50명의 승객과 매칭 기회가 있다. 총 탑승 승객수를 구하시오,\n",
    "# 조건 1 : 승객별 운행 소요시간은 5~50분 사이의 난수로 정해짐.\n",
    "# 조건 2 : 당신은 소요 시간 5~10분 사이 승객만 매칭해야 합니다.\n",
    "    \n",
    "# 출력문 예제 \n",
    "# [0] 1번째 손님 (소요시간 : 15분) #탑승함\n",
    "# [ ] 2번째 손님 (소요시간 : 50분)\n",
    "# [0] 3번째 손님 (소요시간 : 5분)\n",
    "\n",
    "# 총 탑승 승객 : 2분\n",
    "    \n",
    "\n",
    "from random import *\n",
    "cnt = 0 #총 탑승승객수\n",
    "for i in range(1, 51) :\n",
    "    time = randrange(5, 51)\n",
    "    if 5<=time<=15 : \n",
    "        print('[O] {0}번째 손님 (소요시간 : {1}분)'.format(i, time))\n",
    "        cnt +=1\n",
    "    else : print('[  ] {0}번째 손님 (소요시간 : {1}분)'.format(i, time))\n",
    "\n",
    "print('총 탑승 승객', cnt)"
   ]
  }
 ],
 "metadata": {
  "kernelspec": {
   "display_name": "Python 3",
   "language": "python",
   "name": "python3"
  },
  "language_info": {
   "codemirror_mode": {
    "name": "ipython",
    "version": 3
   },
   "file_extension": ".py",
   "mimetype": "text/x-python",
   "name": "python",
   "nbconvert_exporter": "python",
   "pygments_lexer": "ipython3",
   "version": "3.7.6"
  }
 },
 "nbformat": 4,
 "nbformat_minor": 4
}
