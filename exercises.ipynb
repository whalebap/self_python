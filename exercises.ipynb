{
 "cells": [
  {
   "cell_type": "code",
   "execution_count": 5,
   "metadata": {},
   "outputs": [
    {
     "name": "stdout",
     "output_type": "stream",
     "text": [
      "홍길동의 평균 점수는 70\n"
     ]
    }
   ],
   "source": [
    "# 홍길동 씨의 과목별 점수는 다음과 같다. 홍길동 씨의 평균 점수를 구해 보자.\n",
    "\n",
    "# 과목\t점수\n",
    "# 국어\t80\n",
    "# 영어\t75\n",
    "# 수학\t55\n",
    "\n",
    "\n",
    "avg = (80+75+55)/3\n",
    "print(\"홍길동의 평균 점수는 %d\" % avg)"
   ]
  },
  {
   "cell_type": "code",
   "execution_count": 11,
   "metadata": {},
   "outputs": [
    {
     "name": "stdout",
     "output_type": "stream",
     "text": [
      "13은 홀수다\n"
     ]
    }
   ],
   "source": [
    "# Q2\n",
    "# 자연수 13이 홀수인지 짝수인지 판별할 수 있는 방법에 대해 말해 보자.\n",
    "\n",
    "if 13%2 : \n",
    "    print(\"13은 %s다\" % '홀수')\n",
    "else : \n",
    "    print(\"13은 %s다\" % '짝수')"
   ]
  },
  {
   "cell_type": "code",
   "execution_count": 23,
   "metadata": {},
   "outputs": [
    {
     "name": "stdout",
     "output_type": "stream",
     "text": [
      "홍길동씨의 생년월일은 900717\n",
      "홍길동씨의 주민등록번호 뒷자리는 2255511\n"
     ]
    }
   ],
   "source": [
    "# Q3\n",
    "# 홍길동 씨의 주민등록번호는 881120-1068234이다. \n",
    "# 홍길동 씨의 주민등록번호를 연월일(YYYYMMDD) 부분과 \n",
    "# 그 뒤의 숫자 부분으로 나누어 출력해 보자.\n",
    "\n",
    "own_number = '900717-2255511'\n",
    "print(\"홍길동씨의 생년월일은 %s\" % own_number[:6])\n",
    "print(\"홍길동씨의 주민등록번호 뒷자리는 %s\" % own_number[7:])\n",
    "\n",
    "\n"
   ]
  },
  {
   "cell_type": "code",
   "execution_count": 25,
   "metadata": {},
   "outputs": [
    {
     "name": "stdout",
     "output_type": "stream",
     "text": [
      "성별을 나타내는 숫자는 2\n"
     ]
    }
   ],
   "source": [
    "# Q4\n",
    "# 주민등록번호 뒷자리의 맨 첫 번째 숫자는 성별을 나타낸다. \n",
    "# 주민등록번호에서 성별을 나타내는 숫자를 출력해 보자.\n",
    "\n",
    "print(\"성별을 나타내는 숫자는 %s\" % own_number[7])\n",
    "# >>> pin = \"881120-1068234\"\n",
    "# ※ 문자열 인덱싱을 사용해 보자.\n"
   ]
  },
  {
   "cell_type": "code",
   "execution_count": 27,
   "metadata": {},
   "outputs": [
    {
     "name": "stdout",
     "output_type": "stream",
     "text": [
      "a#b#c#d\n"
     ]
    }
   ],
   "source": [
    "# Q5\n",
    "# 다음과 같은 문자열 a:b:c:d가 있다. \n",
    "#문자열의 replace 함수를 사용하여 a#b#c#d로 바꿔서 출력해 보자.\n",
    "\n",
    "# >>> a = \"a:b:c:d\"\n",
    "\n",
    "a = \"a:b:c:d\"\n",
    "print(a.replace(\":\", \"#\"))"
   ]
  },
  {
   "cell_type": "code",
   "execution_count": 32,
   "metadata": {},
   "outputs": [
    {
     "name": "stdout",
     "output_type": "stream",
     "text": [
      "[1, 2, 3, 4, 5]\n",
      "[5, 4, 3, 2, 1]\n"
     ]
    }
   ],
   "source": [
    "\n",
    "# Q6\n",
    "# [1, 3, 5, 4, 2] 리스트를 [5, 4, 3, 2, 1]로 만들어 보자.\n",
    "\n",
    "# ※ 리스트의 내장 함수를 사용해 보자.\n",
    "\n",
    "listNum = [1,3,5,4,2]\n",
    "\n",
    "listNum.sort()\n",
    "\n",
    "print(listNum)\n",
    "\n",
    "listNum.reverse()\n",
    "print(listNum)"
   ]
  },
  {
   "cell_type": "code",
   "execution_count": 34,
   "metadata": {},
   "outputs": [
    {
     "name": "stdout",
     "output_type": "stream",
     "text": [
      "Life is too short\n"
     ]
    }
   ],
   "source": [
    "\n",
    "# Q7\n",
    "# ['Life', 'is', 'too', 'short'] 리스트를 Life is too short 문자열로 만들어 출력해 보자.\n",
    "\n",
    "# ※ 문자열의 join 함수를 사용하면 리스트를 문자열로 쉽게 만들 수 있다.\n",
    "\n",
    "strList = ['Life', 'is', 'too', 'short'] \n",
    "result = ' '.join(strList)\n",
    "print(result)"
   ]
  },
  {
   "cell_type": "code",
   "execution_count": 46,
   "metadata": {},
   "outputs": [
    {
     "name": "stdout",
     "output_type": "stream",
     "text": [
      "(1, 2, 3, 4)\n"
     ]
    }
   ],
   "source": [
    "\n",
    "# Q8\n",
    "# (1,2,3) 튜플에 값 4를 추가하여 (1,2,3,4)를 만들어 출력해 보자.\n",
    "\n",
    "# ※ 더하기(+)를 사용해 보자.\n",
    "\n",
    "numTuple = (1,2,3)\n",
    "numTuple2 = (4,)\n",
    "\n",
    "print(numTuple+numTuple2)"
   ]
  },
  {
   "cell_type": "code",
   "execution_count": 47,
   "metadata": {},
   "outputs": [
    {
     "ename": "IndentationError",
     "evalue": "unexpected indent (<ipython-input-47-b9ece251b5b8>, line 14)",
     "output_type": "error",
     "traceback": [
      "\u001b[1;36m  File \u001b[1;32m\"<ipython-input-47-b9ece251b5b8>\"\u001b[1;36m, line \u001b[1;32m14\u001b[0m\n\u001b[1;33m    a['name'] = 'python'\u001b[0m\n\u001b[1;37m    ^\u001b[0m\n\u001b[1;31mIndentationError\u001b[0m\u001b[1;31m:\u001b[0m unexpected indent\n"
     ]
    }
   ],
   "source": []
  },
  {
   "cell_type": "code",
   "execution_count": 58,
   "metadata": {},
   "outputs": [
    {
     "name": "stdout",
     "output_type": "stream",
     "text": [
      "80\n"
     ]
    }
   ],
   "source": [
    "\n",
    "# Q10\n",
    "# 딕셔너리 a에서 'B'에 해당되는 값을 추출해 보자.\n",
    "\n",
    "# >>> a = {'A':90, 'B':80, 'C':70}\n",
    "# ※ 딕셔너리의 pop 함수를 사용해 보자.\n",
    "\n",
    "a = {'A':90, 'B':80, 'C':70}\n",
    "\n",
    "\n",
    "print(a.pop('B'))"
   ]
  },
  {
   "cell_type": "code",
   "execution_count": 61,
   "metadata": {},
   "outputs": [
    {
     "name": "stdout",
     "output_type": "stream",
     "text": [
      "{1, 2, 3, 4, 5}\n",
      "[1, 2, 3, 4, 5]\n"
     ]
    }
   ],
   "source": [
    "\n",
    "# Q11\n",
    "# a 리스트에서 중복 숫자를 제거해 보자.\n",
    "\n",
    "# >>> a = [1, 1, 1, 2, 2, 3, 3, 3, 4, 4, 5]\n",
    "# ※ 집합 자료형의 요솟값이 중복될 수 없다는 특징을 사용해 보자.\n",
    "\n",
    "a = [1, 1, 1, 2, 2, 3, 3, 3, 4, 4, 5]\n",
    "setA = set(a)\n",
    "print(setA)\n",
    "listA = list(setA)\n",
    "print(listA)"
   ]
  },
  {
   "cell_type": "code",
   "execution_count": 62,
   "metadata": {},
   "outputs": [
    {
     "name": "stdout",
     "output_type": "stream",
     "text": [
      "[1, 4, 3]\n"
     ]
    }
   ],
   "source": [
    "\n",
    "# Q12\n",
    "# 파이썬은 다음처럼 동일한 값에 여러 개의 변수를 선언할 수 있다. \n",
    "# 다음과 같이 a, b 변수를 선언한 후 a의 두 번째 요솟값을 변경하면 b 값은 어떻게 될까? \n",
    "# 그리고 이런 결과가 오는 이유에 대해 설명해 보자.\n",
    "\n",
    "a = b = [1, 2, 3]\n",
    "a[1] = 4\n",
    "print(b)\n",
    "\n"
   ]
  },
  {
   "cell_type": "code",
   "execution_count": 63,
   "metadata": {},
   "outputs": [
    {
     "name": "stdout",
     "output_type": "stream",
     "text": [
      "shirt\n"
     ]
    }
   ],
   "source": [
    "# Q1\n",
    "# 다음 코드의 결괏값은 무엇일까?\n",
    "\n",
    "# a = \"Life is too short, you need python\"\n",
    "\n",
    "# if \"wife\" in a: print(\"wife\")\n",
    "# elif \"python\" in a and \"you\" not in a: print(\"python\")\n",
    "# elif \"shirt\" not in a: print(\"shirt\")\n",
    "# elif \"need\" in a: print(\"need\")\n",
    "# else: print(\"none\")\n",
    "\n",
    "a = \"Life is too short, you need python\"\n",
    "\n",
    "if \"wife\" in a: print(\"wife\")\n",
    "elif \"python\" in a and \"you\" not in a: print(\"python\")\n",
    "elif \"shirt\" not in a: print(\"shirt\")\n",
    "elif \"need\" in a: print(\"need\")\n",
    "else: print(\"none\")\n",
    "    \n",
    "#IF문에서 가장 먼저 달성하는 게 SHIRT라서 그 뒤에 NEED는 참인데도 작동하지 않음. "
   ]
  },
  {
   "cell_type": "code",
   "execution_count": 1,
   "metadata": {},
   "outputs": [
    {
     "name": "stdout",
     "output_type": "stream",
     "text": [
      "166833\n"
     ]
    }
   ],
   "source": [
    "# Q2\n",
    "# while문을 사용해 1부터 1000까지의 자연수 중 3의 배수의 합을 구해 보자.\n",
    "\n",
    "result = 0\n",
    "i = 1\n",
    "while i <= 1000:\n",
    "    if i % 3 == 0: # 3으로 나누어 떨어지는 수는 3의 배수\n",
    "        result += i\n",
    "    i += 1\n",
    "\n",
    "print(result) # 166833 출력\n",
    "\n"
   ]
  },
  {
   "cell_type": "code",
   "execution_count": 12,
   "metadata": {},
   "outputs": [
    {
     "name": "stdout",
     "output_type": "stream",
     "text": [
      "*\n",
      "**\n",
      "***\n",
      "****\n",
      "*****\n"
     ]
    }
   ],
   "source": [
    "\n",
    "# Q3\n",
    "# while문을 사용하여 다음과 같이 별(*)을 표시하는 프로그램을 작성해 보자.\n",
    "\n",
    "# *\n",
    "# **\n",
    "# ***\n",
    "# ****\n",
    "# *****\n",
    "\n",
    "i=1\n",
    "while(i<6):\n",
    "    if i > 5 : break;\n",
    "    print('*'*i)\n",
    "    i += 1\n",
    "    "
   ]
  },
  {
   "cell_type": "code",
   "execution_count": 15,
   "metadata": {},
   "outputs": [
    {
     "name": "stdout",
     "output_type": "stream",
     "text": [
      "1\n",
      "2\n",
      "3\n",
      "4\n",
      "5\n",
      "6\n",
      "7\n",
      "8\n",
      "9\n",
      "10\n",
      "11\n",
      "12\n",
      "13\n",
      "14\n",
      "15\n",
      "16\n",
      "17\n",
      "18\n",
      "19\n",
      "20\n",
      "21\n",
      "22\n",
      "23\n",
      "24\n",
      "25\n",
      "26\n",
      "27\n",
      "28\n",
      "29\n",
      "30\n",
      "31\n",
      "32\n",
      "33\n",
      "34\n",
      "35\n",
      "36\n",
      "37\n",
      "38\n",
      "39\n",
      "40\n",
      "41\n",
      "42\n",
      "43\n",
      "44\n",
      "45\n",
      "46\n",
      "47\n",
      "48\n",
      "49\n",
      "50\n",
      "51\n",
      "52\n",
      "53\n",
      "54\n",
      "55\n",
      "56\n",
      "57\n",
      "58\n",
      "59\n",
      "60\n",
      "61\n",
      "62\n",
      "63\n",
      "64\n",
      "65\n",
      "66\n",
      "67\n",
      "68\n",
      "69\n",
      "70\n",
      "71\n",
      "72\n",
      "73\n",
      "74\n",
      "75\n",
      "76\n",
      "77\n",
      "78\n",
      "79\n",
      "80\n",
      "81\n",
      "82\n",
      "83\n",
      "84\n",
      "85\n",
      "86\n",
      "87\n",
      "88\n",
      "89\n",
      "90\n",
      "91\n",
      "92\n",
      "93\n",
      "94\n",
      "95\n",
      "96\n",
      "97\n",
      "98\n",
      "99\n",
      "100\n"
     ]
    }
   ],
   "source": [
    "# Q4\n",
    "# for문을 사용해 1부터 100까지의 숫자를 출력해 보자.\n",
    "\n",
    "for i in range(1, 101):\n",
    "    print(i)"
   ]
  },
  {
   "cell_type": "code",
   "execution_count": 19,
   "metadata": {},
   "outputs": [
    {
     "name": "stdout",
     "output_type": "stream",
     "text": [
      "평균 성적은 79 입니다.\n"
     ]
    }
   ],
   "source": [
    "# Q5\n",
    "# A 학급에 총 10명의 학생이 있다. 이 학생들의 중간고사 점수는 다음과 같다.\n",
    "\n",
    "# [70, 60, 55, 75, 95, 90, 80, 80, 85, 100]\n",
    "\n",
    "# for문을 사용하여 A 학급의 평균 점수를 구해 보자.\n",
    "\n",
    "grade = [70, 60, 55, 75, 95, 90, 80, 80, 85, 100]\n",
    "\n",
    "number = 0\n",
    "for item in grade:\n",
    "    number += item\n",
    "result = number/len(grade)\n",
    "print(\"평균 성적은 %d 입니다.\" % result)\n"
   ]
  },
  {
   "cell_type": "code",
   "execution_count": 20,
   "metadata": {},
   "outputs": [
    {
     "name": "stdout",
     "output_type": "stream",
     "text": [
      "[2, 6, 10]\n"
     ]
    }
   ],
   "source": [
    "# Q6\n",
    "# 리스트 중에서 홀수에만 2를 곱하여 저장하는 다음 코드가 있다.\n",
    "\n",
    "# numbers = [1, 2, 3, 4, 5]\n",
    "# result = []\n",
    "# for n in numbers:\n",
    "#     if n % 2 == 1:\n",
    "#         result.append(n*2)\n",
    "# 위 코드를 리스트 내포(list comprehension)를 사용하여 표현해 보자.\n",
    "\n",
    "numbers = [1, 2, 3, 4, 5]\n",
    "result = []\n",
    "for n in numbers:\n",
    "    if n % 2 == 1:\n",
    "        result.append(n*2)\n",
    "        \n",
    "print(result)"
   ]
  },
  {
   "cell_type": "code",
   "execution_count": 4,
   "metadata": {},
   "outputs": [
    {
     "name": "stdout",
     "output_type": "stream",
     "text": [
      "5는 홀수입니다.\n",
      "10는 짝수입니다.\n"
     ]
    }
   ],
   "source": [
    "# Q1\n",
    "# 주어진 자연수가 홀수인지 짝수인지 판별해 주는 함수(is_odd)를 작성해 보자.\n",
    "\n",
    "def is_odd(number):\n",
    "    if number % 2 == 0 : \n",
    "        print(\"{0}는 {1}입니다.\".format(number, \"짝수\"))\n",
    "    else : print(\"{0}는 {1}입니다.\".format(number, \"홀수\"))\n",
    "\n",
    "is_odd(5)\n",
    "is_odd(10)"
   ]
  },
  {
   "cell_type": "code",
   "execution_count": 6,
   "metadata": {},
   "outputs": [
    {
     "data": {
      "text/plain": [
       "3.0"
      ]
     },
     "execution_count": 6,
     "metadata": {},
     "output_type": "execute_result"
    }
   ],
   "source": [
    "# Q2\n",
    "# 입력으로 들어오는 모든 수의 평균 값을 계산해 주는 함수를 작성해 보자. (단 입력으로 들어오는 수의 개수는 정해져 있지 않다.)\n",
    "# ※ 평균 값을 구할 때 len 함수를 사용해 보자.\n",
    "\n",
    "# 입력 개수에 상관없이 사용하기 위해 *args를 사용\n",
    "\n",
    "def avg_numbers(*args):\n",
    "    result = 0\n",
    "    for i in args:\n",
    "        result += i\n",
    "    return result / len(args)\n",
    "\n",
    "avg_numbers(1, 2)\n",
    "1.5\n",
    "avg_numbers(1,2,3,4,5)\n",
    "3.0"
   ]
  },
  {
   "cell_type": "code",
   "execution_count": 8,
   "metadata": {},
   "outputs": [],
   "source": [
    "# Q3\n",
    "# 다음은 두 개의 숫자를 입력받아 더하여 돌려주는 프로그램이다.\n",
    "\n",
    "# input1 = input(\"첫번째 숫자를 입력하세요:\")\n",
    "# input2 = input(\"두번째 숫자를 입력하세요:\")\n",
    "\n",
    "# total = input1 + input2\n",
    "# print(\"두 수의 합은 %s 입니다\" % total)\n",
    "# 이 프로그램을 수행해 보자.\n",
    "\n",
    "# 첫번째 숫자를 입력하세요:3\n",
    "# 두번째 숫자를 입력하세요:6\n",
    "# 두 수의 합은 36 입니다\n",
    "# 3과 6을 입력했을 때 9가 아닌 36이라는 결괏값을 돌려주었다. 이 프로그램의 오류를 수정해 보자.\n",
    "\n",
    "# ※ int 함수를 사용해 보자.\n",
    "\n",
    "def inputCal(number):\n",
    "    input1 = input(\"첫번째 숫자를 입력하세요:\")\n",
    "    input2 = input(\"두번째 숫자를 입력하세요:\")\n",
    "\n",
    "    total = input1 + input2\n",
    "    print(\"두 수의 합은 %s 입니다\" % total)\n",
    "\n",
    "\n"
   ]
  },
  {
   "cell_type": "code",
   "execution_count": 9,
   "metadata": {},
   "outputs": [
    {
     "name": "stdout",
     "output_type": "stream",
     "text": [
      "youneedpython\n",
      "youneedpython\n",
      "you need python\n",
      "youneedpython\n"
     ]
    }
   ],
   "source": [
    "# Q4\n",
    "# 다음 중 출력 결과가 다른 것 한 개를 골라 보자.\n",
    "\n",
    "print(\"you\" \"need\" \"python\")\n",
    "print(\"you\"+\"need\"+\"python\")\n",
    "print(\"you\", \"need\", \"python\")\n",
    "print(\"\".join([\"you\", \"need\", \"python\"]))\n"
   ]
  },
  {
   "cell_type": "code",
   "execution_count": null,
   "metadata": {},
   "outputs": [],
   "source": [
    "# Q5\n",
    "# 다음은 \"test.txt\"라는 파일에 \"Life is too short\" 문자열을 저장한 후 다시 그 파일을 읽어서 출력하는 프로그램이다.\n",
    "\n",
    "# f1 = open(\"test.txt\", 'w')\n",
    "# f1.write(\"Life is too short\")\n",
    "\n",
    "# f2 = open(\"test.txt\", 'r')\n",
    "# print(f2.read())\n",
    "# 이 프로그램은 우리가 예상한 \"Life is too short\"라는 문장을 출력하지 않는다. 우리가 예상한 값을 출력할 수 있도록 프로그램을 수정해 보자.\n"
   ]
  },
  {
   "cell_type": "code",
   "execution_count": null,
   "metadata": {},
   "outputs": [],
   "source": [
    "\n",
    "# Q6\n",
    "# 사용자의 입력을 파일(test.txt)에 저장하는 프로그램을 작성해 보자. (단 프로그램을 다시 실행하더라도 기존에 작성한 내용을 유지하고 새로 입력한 내용을 추가해야 한다.)\n",
    "\n",
    "# Q7\n",
    "# 다음과 같은 내용을 지닌 파일 test.txt가 있다. 이 파일의 내용 중 \"java\"라는 문자열을 \"python\"으로 바꾸어서 저장해 보자.\n",
    "\n",
    "# Life is too short\n",
    "# you need java\n",
    "# ※ replace 함수를 사용해 보자.\n"
   ]
  }
 ],
 "metadata": {
  "kernelspec": {
   "display_name": "Python 3",
   "language": "python",
   "name": "python3"
  },
  "language_info": {
   "codemirror_mode": {
    "name": "ipython",
    "version": 3
   },
   "file_extension": ".py",
   "mimetype": "text/x-python",
   "name": "python",
   "nbconvert_exporter": "python",
   "pygments_lexer": "ipython3",
   "version": "3.7.6"
  }
 },
 "nbformat": 4,
 "nbformat_minor": 4
}
