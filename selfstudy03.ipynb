{
 "cells": [
  {
   "cell_type": "code",
   "execution_count": 1,
   "metadata": {},
   "outputs": [],
   "source": [
    "class FourCal : \n",
    "\n",
    "    \n",
    "    def __init__(self, a, b) : \n",
    "        self.a = a\n",
    "        self.b = b\n",
    "\n",
    "    def add(self) :\n",
    "        return self.a + self.b\n"
   ]
  },
  {
   "cell_type": "code",
   "execution_count": 2,
   "metadata": {},
   "outputs": [
    {
     "name": "stdout",
     "output_type": "stream",
     "text": [
      "전\n",
      "전\n",
      "전\n",
      "정\n",
      "심\n"
     ]
    }
   ],
   "source": [
    "class Family : \n",
    "    lastname = '전'\n",
    "\n",
    "print(Family.lastname)\n",
    "\n",
    "first = Family()\n",
    "second = Family()\n",
    "\n",
    "print(first.lastname)\n",
    "print(second.lastname)\n",
    "\n",
    "first.lastname = '정'\n",
    "print(first.lastname)\n",
    "Family.lastname = '심'\n",
    "print(second.lastname)\n",
    "#클래스의 변수를 바꿔주면 인스턴스에도 영향을 미친다."
   ]
  },
  {
   "cell_type": "code",
   "execution_count": 3,
   "metadata": {},
   "outputs": [
    {
     "name": "stdout",
     "output_type": "stream",
     "text": [
      "마린이 생성되었습니다.\n",
      "체력 40, 공격력 5\n",
      "마린이 생성되었습니다.\n",
      "체력 40, 공격력 5\n",
      "탱크이 생성되었습니다.\n",
      "체력 150, 공격력 35\n",
      "레이스이 생성되었습니다.\n",
      "체력 8, 공격력 5\n",
      "유닛 이름 : 레이스, 공격력 : 8\n",
      "레이스이 생성되었습니다.\n",
      "체력 8, 공격력 5\n",
      "이 레이스는 클로킹 상태입니다.\n"
     ]
    }
   ],
   "source": [
    "#스타크래프트로 파이썬 클래스 배우기\n",
    "class Unit : \n",
    "    def __init__(self, name, hp, damage) :\n",
    "        self.name = name\n",
    "        self.hp = hp\n",
    "        self.damage = damage\n",
    "        #self.~~들이 멤버변수다. \n",
    "        print(\"{0}이 생성되었습니다.\".format(self.name))\n",
    "        print(\"체력 {0}, 공격력 {1}\".format(self.hp, self.damage))\n",
    "        \n",
    "marine1 = Unit('마린', 40, 5)\n",
    "marine2 = Unit('마린', 40, 5)\n",
    "tank = Unit('탱크', 150, 35)\n",
    "\n",
    "#객체가 생성될 때는 init함수에 정의된 args 만큼 입력해줘야 함.\n",
    "#self는 제외.self는 인스턴스를 의미함. \n",
    "\n",
    "wraith1 = Unit('레이스', 8, 5)\n",
    "print('유닛 이름 : {0}, 공격력 : {1}'.\n",
    "     format(wraith1.name, wraith1.hp, wraith1.damage))\n",
    "#멤버 변수를 외부에서 쓸 수 있음. \n",
    "\n",
    "wraith2 = Unit('레이스', 8, 5)\n",
    "wraith2.clocking = True\n",
    "\n",
    "if wraith2.clocking == True : \n",
    "    print('이 {}는 클로킹 상태입니다.'.format(wraith2.name))\n",
    "#파이썬에선 외부에서 변수를 추가할 수 있다.\n",
    "# 그러나 다른 인스턴스에는 영향을 주지 않는다.\n",
    "\n"
   ]
  },
  {
   "cell_type": "code",
   "execution_count": 4,
   "metadata": {},
   "outputs": [
    {
     "name": "stdout",
     "output_type": "stream",
     "text": [
      "파이어뱃유닛이 4시시 방향으로 적군을 공격합니다\n",
      "파이어뱃 : 25 데미지를 입었습니다.\n",
      "25 만큼 체력이 남았습니다.\n",
      "파이어뱃 : 30 데미지를 입었습니다.\n",
      "-5 만큼 체력이 남았습니다.\n",
      "파이어뱃이 파괴되었습니다.\n"
     ]
    }
   ],
   "source": [
    "class AttackUnit : \n",
    "    def __init__(self, name, hp, damage) : \n",
    "        self.name = name\n",
    "        self.hp = hp\n",
    "        self.damage = damage\n",
    "    def attack(self, location) : \n",
    "        print(\"{0}유닛이 {1}시 방향으로 적군을 공격합니다\".\n",
    "             format(self.name, location, self.damage))\n",
    "        \n",
    "#self 를 통해서 자기 자신의 변수에 접근한다.\n",
    "#self가 없는 location은 외부에서 입력된 값을 쓸 거다.\n",
    "    def damaged(self, damage) : \n",
    "        print(\"{0} : {1} 데미지를 입었습니다.\"\n",
    "             .format(self.name, damage))\n",
    "        self.hp -= damage\n",
    "        print(\"{0} 만큼 체력이 남았습니다.\".format(self.hp))\n",
    "        if self.hp <=0 : \n",
    "            print(\"{0}이 파괴되었습니다.\".format(self.name))\n",
    "            \n",
    "firebat1 = AttackUnit(\"파이어뱃\", 50, 16)\n",
    "firebat1.attack('4시')\n",
    "firebat1.damaged(25)\n",
    "firebat1.damaged(30)"
   ]
  },
  {
   "cell_type": "code",
   "execution_count": 5,
   "metadata": {},
   "outputs": [
    {
     "name": "stdout",
     "output_type": "stream",
     "text": [
      "메딕이 생성되었습니다.\n",
      "체력 50, 공격력 25\n",
      "치유력 : 60\n",
      "{'name': '메딕', 'hp': 50, 'damage': 25, 'heal': 60}\n"
     ]
    }
   ],
   "source": [
    "class MediUnit(Unit):\n",
    "    def __init__(self, name, hp, damage, heal) :\n",
    "        Unit.__init__(self, name, hp, damage)\n",
    "        self.heal = heal\n",
    "        print('치유력 : {0}'.format(self.heal))\n",
    "              \n",
    "medic10 = MediUnit('메딕', 50, 25, 60)\n",
    "print(medic10.__dict__)"
   ]
  },
  {
   "cell_type": "code",
   "execution_count": 6,
   "metadata": {},
   "outputs": [],
   "source": [
    "#pass : 아무 것도 안 하고 일단은 넘어간다\n",
    "#코드를 완성하지 않고 pass라고 적으면 일단은 지나감"
   ]
  }
 ],
 "metadata": {
  "kernelspec": {
   "display_name": "Python 3",
   "language": "python",
   "name": "python3"
  },
  "language_info": {
   "codemirror_mode": {
    "name": "ipython",
    "version": 3
   },
   "file_extension": ".py",
   "mimetype": "text/x-python",
   "name": "python",
   "nbconvert_exporter": "python",
   "pygments_lexer": "ipython3",
   "version": "3.7.6"
  }
 },
 "nbformat": 4,
 "nbformat_minor": 4
}
