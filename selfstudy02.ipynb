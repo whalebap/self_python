{
 "cells": [
  {
   "cell_type": "code",
   "execution_count": 3,
   "metadata": {},
   "outputs": [
    {
     "name": "stdout",
     "output_type": "stream",
     "text": [
      "3와 5의 합은 8입니다\n",
      "3와 5의 합은 8입니다\n",
      "----\n",
      "None\n"
     ]
    }
   ],
   "source": [
    "#반환값이 없는 함수를 변수에 할당하여 프린트하면 None이 나옴.\n",
    "\n",
    "def noReturn(a, b) : \n",
    "    print(\"%d와 %d의 합은 %d입니다\" % (a, b, a+b))\n",
    "    \n",
    "noReturn(3,5)\n",
    "a = noReturn(3,5)\n",
    "print('----')\n",
    "print(a)"
   ]
  },
  {
   "cell_type": "code",
   "execution_count": 4,
   "metadata": {},
   "outputs": [
    {
     "name": "stdout",
     "output_type": "stream",
     "text": [
      "hi\n"
     ]
    }
   ],
   "source": [
    "#입력값도 반환값도 없는 함수\n",
    "def say() : \n",
    "    print('hi')\n",
    "    \n",
    "say()"
   ]
  },
  {
   "cell_type": "code",
   "execution_count": 9,
   "metadata": {},
   "outputs": [
    {
     "name": "stdout",
     "output_type": "stream",
     "text": [
      "5\n"
     ]
    }
   ],
   "source": [
    "# 매개변수 앞에 *을 붙이면 입력값을 전부 모아 튜플로 만들어준다. \n",
    "# args라고 이름 안 붙여도 됨.\n",
    "\n",
    "\n",
    "def add(*args) : \n",
    "    result = 0\n",
    "    for items in args : \n",
    "        result +=1\n",
    "    print(result)\n",
    "    \n",
    "add(1,2,3,4,5)"
   ]
  },
  {
   "cell_type": "code",
   "execution_count": 12,
   "metadata": {},
   "outputs": [
    {
     "name": "stdout",
     "output_type": "stream",
     "text": [
      "{'a': 1}\n",
      "{'abc': 5, 'cdb': '딕셔너리'}\n"
     ]
    }
   ],
   "source": [
    "def print_aa(**aa) : \n",
    "    print(aa)\n",
    "\n",
    "print_aa(a=1)\n",
    "print_aa(abc=5, cdb='딕셔너리')\n",
    "\n",
    "# 입력값에 **을 붙인 뒤 할당한 변수를 넣으면 딕셔너리로 출력된다."
   ]
  },
  {
   "cell_type": "code",
   "execution_count": 14,
   "metadata": {},
   "outputs": [
    {
     "name": "stdout",
     "output_type": "stream",
     "text": [
      "나의 별명은 자두입니다\n"
     ]
    }
   ],
   "source": [
    "#return으로 함수를 빠져나가기\n",
    "def say_nick(nick) : \n",
    "    if nick == '바보' : \n",
    "        return\n",
    "    print('나의 별명은 %s입니다' % nick)\n",
    "\n",
    "say_nick('바보') #함수를 빠져나가버림. \n",
    "say_nick('자두')"
   ]
  },
  {
   "cell_type": "code",
   "execution_count": 15,
   "metadata": {},
   "outputs": [
    {
     "name": "stdout",
     "output_type": "stream",
     "text": [
      "2\n"
     ]
    }
   ],
   "source": [
    "a = 1\n",
    "def vartest() : \n",
    "    global a \n",
    "    a = a+1\n",
    "    \n",
    "vartest()\n",
    "print(a) #global 때문에 함수 안에 있는 a가 함수밖에도 영향을 미침.\n",
    "# global이 없으면 a는 결과값도 없고 내부에서만 영향을 끼치니 \n",
    "# 그냥 1이 출력됨. \n",
    "# 변수는 독립적이어야 좋으므로 global의 남용은 지양한다. "
   ]
  },
  {
   "cell_type": "code",
   "execution_count": 16,
   "metadata": {},
   "outputs": [
    {
     "name": "stdout",
     "output_type": "stream",
     "text": [
      "14\n"
     ]
    }
   ],
   "source": [
    "# lambda 매개변수1, 매개변수2, ... : 매개변수를 이용한 표현식\n",
    "add = lambda a, b : a+b\n",
    "res = add(5, 9)\n",
    "print(res)"
   ]
  },
  {
   "cell_type": "code",
   "execution_count": 17,
   "metadata": {},
   "outputs": [
    {
     "name": "stdout",
     "output_type": "stream",
     "text": [
      "3는 홀수입니다\n",
      "10는 짝수입니다\n"
     ]
    }
   ],
   "source": [
    "#주어진 자연수가 홀수인지 짝수인지 판별해 주는 함수(is_odd)를 작성해 보자.\n",
    "\n",
    "def is_odd(a) : \n",
    "    if a % 2 :\n",
    "        print('%d는 홀수입니다' %a)\n",
    "    else : \n",
    "        print('%d는 짝수입니다' %a)\n",
    "\n",
    "is_odd(3)\n",
    "is_odd(10)"
   ]
  },
  {
   "cell_type": "code",
   "execution_count": 29,
   "metadata": {},
   "outputs": [
    {
     "name": "stdout",
     "output_type": "stream",
     "text": [
      "4.75\n"
     ]
    }
   ],
   "source": [
    "# 입력으로 들어오는 모든 수의 평균 값을 계산해 주는 함수를 작성해 보자. \n",
    "# (단 입력으로 들어오는 수의 개수는 정해져 있지 않다.)\n",
    "\n",
    "# ※ 평균 값을 구할 때 len 함수를 사용해 보자.\n",
    "\n",
    "import math \n",
    "def avgA(*arg) : \n",
    "    result = 0\n",
    "    for i in arg : \n",
    "        result += i\n",
    "    res = result / len(arg)\n",
    "    print(res)\n",
    "    \n",
    "avgA(4,6,1,8)"
   ]
  },
  {
   "cell_type": "code",
   "execution_count": 31,
   "metadata": {},
   "outputs": [
    {
     "name": "stdout",
     "output_type": "stream",
     "text": [
      "11\n"
     ]
    }
   ],
   "source": [
    "# 3과 6을 입력했을 때 9가 아닌 36이라는 결괏값을 돌려주었다. \n",
    "# 이 프로그램의 오류를 수정해 보자.\n",
    "\n",
    "def plus(a, b) : \n",
    "    print(int(a) + int(b))\n",
    "    \n",
    "plus('5', '6')\n"
   ]
  },
  {
   "cell_type": "code",
   "execution_count": null,
   "metadata": {},
   "outputs": [],
   "source": []
  },
  {
   "cell_type": "code",
   "execution_count": null,
   "metadata": {},
   "outputs": [],
   "source": []
  },
  {
   "cell_type": "code",
   "execution_count": null,
   "metadata": {},
   "outputs": [],
   "source": []
  },
  {
   "cell_type": "code",
   "execution_count": null,
   "metadata": {},
   "outputs": [],
   "source": []
  },
  {
   "cell_type": "code",
   "execution_count": null,
   "metadata": {},
   "outputs": [],
   "source": []
  }
 ],
 "metadata": {
  "kernelspec": {
   "display_name": "Python 3",
   "language": "python",
   "name": "python3"
  },
  "language_info": {
   "codemirror_mode": {
    "name": "ipython",
    "version": 3
   },
   "file_extension": ".py",
   "mimetype": "text/x-python",
   "name": "python",
   "nbconvert_exporter": "python",
   "pygments_lexer": "ipython3",
   "version": "3.7.6"
  }
 },
 "nbformat": 4,
 "nbformat_minor": 4
}
