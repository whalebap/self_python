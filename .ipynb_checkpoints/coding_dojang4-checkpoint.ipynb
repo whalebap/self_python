{
 "cells": [
  {
   "cell_type": "code",
   "execution_count": 1,
   "metadata": {},
   "outputs": [
    {
     "name": "stdout",
     "output_type": "stream",
     "text": [
      "94 94\n",
      "91 185\n",
      "89 274\n",
      "83 357\n",
      "357\n",
      "4\n",
      "89.25\n",
      "89.25\n"
     ]
    }
   ],
   "source": [
    "maria = {'korean' : 94, 'english' : 91, 'math' : 89, 'science' : 83}\n",
    "i=0\n",
    "for value in maria.values() : \n",
    "    print(value, end=' ')\n",
    "    i += value\n",
    "    print(i)\n",
    "    \n",
    "    \n",
    "average = i / len(maria)\n",
    "print(i)\n",
    "print(len(maria))\n",
    "print(average)\n",
    "\n",
    "average = sum(maria.values()) / len(maria)\n",
    "print(average)"
   ]
  },
  {
   "cell_type": "code",
   "execution_count": 9,
   "metadata": {},
   "outputs": [
    {
     "name": "stdout",
     "output_type": "stream",
     "text": [
      "delta, love, khan, coffee\n",
      "88,45,30,74\n",
      "{'delta': 88, ' love': 45, ' khan': 30, ' coffee': 74}\n",
      "{' love': 45, ' khan': 30, ' coffee': 74}\n"
     ]
    }
   ],
   "source": [
    "key_item = input().split(',')\n",
    "value_item = list(map(int, input().split(',')))\n",
    "\n",
    "dic = {}\n",
    "dic.update(zip(key_item, value_item))\n",
    "print(dic)\n",
    "\n",
    "print({key:value for key, value in dic.items() if (value != 20) and (key != 'delta')})\n"
   ]
  },
  {
   "cell_type": "code",
   "execution_count": 3,
   "metadata": {},
   "outputs": [
    {
     "name": "stdout",
     "output_type": "stream",
     "text": [
      "아\n",
      "이\n"
     ]
    }
   ],
   "source": [
    "x = {'아' : 5, '이' : 7}\n",
    "for key in x:\n",
    "    print(key)"
   ]
  },
  {
   "cell_type": "code",
   "execution_count": 8,
   "metadata": {},
   "outputs": [
    {
     "name": "stdout",
     "output_type": "stream",
     "text": [
      "{75, 45, 15, 90, 60, 30}\n"
     ]
    },
    {
     "data": {
      "text/plain": [
       "{15, 30, 45, 60, 75, 90}"
      ]
     },
     "execution_count": 8,
     "metadata": {},
     "output_type": "execute_result"
    }
   ],
   "source": [
    "num_set = set()\n",
    "for i in range(1, 101):\n",
    "    if i % 15 == 0:\n",
    "        num_set.add(i)\n",
    "print(num_set)\n",
    "\n",
    "\n",
    "{i for i in range(1,101) if i % 15==0}"
   ]
  },
  {
   "cell_type": "code",
   "execution_count": 14,
   "metadata": {},
   "outputs": [
    {
     "name": "stdout",
     "output_type": "stream",
     "text": [
      "100 200\n",
      "{1, 2, 4, 5, 100, 10, 50, 20, 25}\n",
      "217\n"
     ]
    }
   ],
   "source": [
    "num1, num2 = map(int, input().split())\n",
    "divisor=set()\n",
    "for i in range(1, num2+1):\n",
    "    if num1 % i == 0 and num2 % i ==0:\n",
    "        divisor.add(i)\n",
    "\n",
    "print(divisor)\n",
    "\n",
    "result = 0\n",
    "if type(divisor) == set:\n",
    "    result = sum(divisor)\n",
    "print(result)"
   ]
  },
  {
   "cell_type": "code",
   "execution_count": 30,
   "metadata": {
    "scrolled": true
   },
   "outputs": [],
   "source": [
    "with open('hello.txt', 'w') as file: \n",
    "    for i in range(3):\n",
    "        file.write('Hello, Wonwoo\\n')"
   ]
  },
  {
   "cell_type": "code",
   "execution_count": 31,
   "metadata": {},
   "outputs": [
    {
     "name": "stdout",
     "output_type": "stream",
     "text": [
      "['Hello, Wonwoo\\n', 'Hello, Wonwoo\\n', 'Hello, Wonwoo\\n']\n"
     ]
    }
   ],
   "source": [
    "with open('hello.txt', 'r') as file:\n",
    "    lines = file.readlines()\n",
    "    print(lines)"
   ]
  },
  {
   "cell_type": "code",
   "execution_count": 32,
   "metadata": {},
   "outputs": [
    {
     "name": "stdout",
     "output_type": "stream",
     "text": [
      "Hello, Wonwoo\n",
      "Hello, Wonwoo\n",
      "Hello, Wonwoo\n",
      "\n"
     ]
    }
   ],
   "source": [
    "with open('hello.txt', 'r') as file:\n",
    "    line = None\n",
    "    while line != '':\n",
    "        line = file.readline()\n",
    "        print(line.strip('\\n'))"
   ]
  },
  {
   "cell_type": "code",
   "execution_count": 34,
   "metadata": {},
   "outputs": [],
   "source": [
    "import pickle\n",
    "\n",
    "name = 'euna'\n",
    "age = 31\n",
    "address = 'shinchon'\n",
    "scores = {'java' : 80, 'js' : 90, 'python' : 100}\n",
    "\n",
    "with open('euna.p', 'wb') as file:\n",
    "    pickle.dump(name, file)\n",
    "    pickle.dump(age, file)\n",
    "    pickle.dump(address, file)\n",
    "    pickle.dump(scores, file)"
   ]
  },
  {
   "cell_type": "code",
   "execution_count": 35,
   "metadata": {},
   "outputs": [
    {
     "name": "stdout",
     "output_type": "stream",
     "text": [
      "euna 31 shinchon {'java': 80, 'js': 90, 'python': 100}\n"
     ]
    }
   ],
   "source": [
    "import pickle\n",
    "\n",
    "with open('euna.p', 'rb') as file:\n",
    "    name=pickle.load(file)\n",
    "    age = pickle.load(file)\n",
    "    address = pickle.load(file)\n",
    "    scores = pickle.load(file)\n",
    "    print(name, age, address, scores)"
   ]
  },
  {
   "cell_type": "code",
   "execution_count": 44,
   "metadata": {},
   "outputs": [
    {
     "name": "stdout",
     "output_type": "stream",
     "text": [
      "9\n"
     ]
    }
   ],
   "source": [
    "with open('svt.txt', 'r') as file:\n",
    "    line = file.readlines()\n",
    "    count = 0\n",
    "    for item in line :\n",
    "        if len(item.strip('\\n')) <=6:\n",
    "            count +=1\n",
    "            \n",
    "print(count)"
   ]
  },
  {
   "cell_type": "code",
   "execution_count": 52,
   "metadata": {},
   "outputs": [
    {
     "name": "stdout",
     "output_type": "stream",
     "text": [
      "since\n",
      "scrambled\n",
      "specimen\n",
      "centuries,\n",
      "electronic\n",
      "unchanged.\n",
      "containing\n",
      "recently\n",
      "including\n",
      "Lorem Ipsum is simply dummy text of the printing and typesetting industry. Lorem Ipsum has been the industry's standard dummy text ever since the 1500s, when an unknown printer took a galley of type and scrambled it to make a type specimen book. It has survived not only five centuries, but also the leap into electronic typesetting, remaining essentially unchanged. It was popularised in the 1960s with the release of Letraset sheets containing Lorem Ipsum passages, and more recently with desktop publishing software like Aldus PageMaker including versions of Lorem Ipsum\n"
     ]
    }
   ],
   "source": [
    "with open('words.txt', 'r') as file:\n",
    "    line = file.readline()\n",
    "    words = line.split(' ')\n",
    "    for word in words:\n",
    "        if 'c'in word:\n",
    "            print(word)"
   ]
  },
  {
   "cell_type": "code",
   "execution_count": null,
   "metadata": {},
   "outputs": [],
   "source": []
  }
 ],
 "metadata": {
  "kernelspec": {
   "display_name": "Python 3",
   "language": "python",
   "name": "python3"
  },
  "language_info": {
   "codemirror_mode": {
    "name": "ipython",
    "version": 3
   },
   "file_extension": ".py",
   "mimetype": "text/x-python",
   "name": "python",
   "nbconvert_exporter": "python",
   "pygments_lexer": "ipython3",
   "version": "3.7.6"
  }
 },
 "nbformat": 4,
 "nbformat_minor": 4
}
