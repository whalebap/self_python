{
 "cells": [
  {
   "cell_type": "raw",
   "metadata": {},
   "source": [
    "written_test=75\n",
    "coding_test=True\n",
    "\n",
    "if written_test > 80 and coding_test == True:\n",
    "    print('합격')\n",
    "else :\n",
    "    print('불합격')"
   ]
  },
  {
   "cell_type": "code",
   "execution_count": 1,
   "metadata": {},
   "outputs": [
    {
     "name": "stdout",
     "output_type": "stream",
     "text": [
      "20,50,70,90\n",
      "불합격\n"
     ]
    }
   ],
   "source": [
    "kor, eng, math, sci = map(int, input().split(','))\n",
    "avg = (kor+eng+math+sci) / 4\n",
    "if (kor < 0 or kor > 100)  or (eng < 0 or eng > 100) or (math < 0 or math > 100) or (sci < 0 or sci > 100) : \n",
    "    print('잘못된 점수')\n",
    "else :\n",
    "    if avg >= 80 : \n",
    "        print('합격')\n",
    "    else : print('불합격')"
   ]
  },
  {
   "cell_type": "code",
   "execution_count": 2,
   "metadata": {},
   "outputs": [
    {
     "name": "stdout",
     "output_type": "stream",
     "text": [
      "8\n",
      "아무것도 해당하지 않음\n"
     ]
    }
   ],
   "source": [
    "x = int(input())\n",
    "\n",
    "if 11<= x <= 20:\n",
    "    print('11~20')\n",
    "elif 21<=x<=30:\n",
    "    print('21~30')\n",
    "else : print('아무것도 해당하지 않음')"
   ]
  },
  {
   "cell_type": "code",
   "execution_count": 3,
   "metadata": {},
   "outputs": [
    {
     "name": "stdout",
     "output_type": "stream",
     "text": [
      "7\n",
      "8350\n"
     ]
    }
   ],
   "source": [
    "age = int(input())\n",
    "card = 9000\n",
    "\n",
    "if 7<= age <=12:\n",
    "    print(card-650)\n",
    "elif 13<= age <=18:\n",
    "    print(card-1050)\n",
    "elif age>=19:\n",
    "    print(card-1250)\n",
    "else : print('나이 입력이 잘못됐습니다')"
   ]
  },
  {
   "cell_type": "code",
   "execution_count": 4,
   "metadata": {},
   "outputs": [
    {
     "name": "stdout",
     "output_type": "stream",
     "text": [
      "oownoW"
     ]
    }
   ],
   "source": [
    "for i in reversed('Wonwoo'):\n",
    "    print(i, end='')"
   ]
  },
  {
   "cell_type": "code",
   "execution_count": 5,
   "metadata": {},
   "outputs": [
    {
     "name": "stdout",
     "output_type": "stream",
     "text": [
      "480 -170 500 -880 -160 "
     ]
    }
   ],
   "source": [
    "x = [48,-17,50,-88,-16]\n",
    "for i in x:\n",
    "    print(i * 10, end=' ')"
   ]
  },
  {
   "cell_type": "code",
   "execution_count": 6,
   "metadata": {},
   "outputs": [
    {
     "name": "stdout",
     "output_type": "stream",
     "text": [
      "5\n",
      "1 * 5 = 5\n",
      "2 * 5 = 10\n",
      "3 * 5 = 15\n",
      "4 * 5 = 20\n",
      "5 * 5 = 25\n",
      "6 * 5 = 30\n",
      "7 * 5 = 35\n",
      "8 * 5 = 40\n",
      "9 * 5 = 45\n"
     ]
    }
   ],
   "source": [
    "x = int(input())\n",
    "for i in range(1, 10):\n",
    "    print(i,'*',x,'=',i * x)"
   ]
  },
  {
   "cell_type": "code",
   "execution_count": 7,
   "metadata": {},
   "outputs": [
    {
     "name": "stdout",
     "output_type": "stream",
     "text": [
      "2 5\n",
      "4 4\n",
      "8 3\n",
      "16 2\n",
      "32 1\n"
     ]
    }
   ],
   "source": [
    "i = 2\n",
    "j= 5\n",
    "while i<33 or j >0:\n",
    "    print(i, j)\n",
    "    i *= 2\n",
    "    j -= 1"
   ]
  },
  {
   "cell_type": "code",
   "execution_count": 8,
   "metadata": {},
   "outputs": [
    {
     "name": "stdout",
     "output_type": "stream",
     "text": [
      "10000\n",
      "8650\n",
      "7300\n",
      "5950\n",
      "4600\n",
      "3250\n",
      "1900\n",
      "550\n"
     ]
    }
   ],
   "source": [
    "price = int(input())\n",
    "while price >= 1350:\n",
    "    price -= 1350\n",
    "    print(price)"
   ]
  },
  {
   "cell_type": "code",
   "execution_count": 1,
   "metadata": {},
   "outputs": [
    {
     "name": "stdout",
     "output_type": "stream",
     "text": [
      "3 13 23 33 43 53 63 73 "
     ]
    }
   ],
   "source": [
    "i = 0\n",
    "while True:\n",
    "    if i % 10 !=3:\n",
    "        i+=1\n",
    "        continue\n",
    "    if i >73:\n",
    "        break;\n",
    "    print(i, end=' ')\n",
    "    i += 1"
   ]
  },
  {
   "cell_type": "code",
   "execution_count": 4,
   "metadata": {},
   "outputs": [
    {
     "name": "stdout",
     "output_type": "stream",
     "text": [
      "5 15\n",
      "5 6 7 8 9 10 11 12 14 15 "
     ]
    }
   ],
   "source": [
    "start, stop = map(int,input().split())\n",
    "i = start\n",
    "while True :\n",
    "    if i % 10 == 3:\n",
    "         \n",
    "            \n",
    "        i+=1\n",
    "        continue\n",
    "    if i > stop : break;\n",
    "    print(i, end=' ')\n",
    "    i+=1"
   ]
  },
  {
   "cell_type": "code",
   "execution_count": 23,
   "metadata": {},
   "outputs": [
    {
     "name": "stdout",
     "output_type": "stream",
     "text": [
      "* * * * * \n",
      "* * * * * \n",
      "* * * * * \n",
      "* * * * * \n",
      "* * * * * \n"
     ]
    }
   ],
   "source": [
    "for i in range(5):\n",
    "    for j in range(5):\n",
    "        print('*', end=' ')\n",
    "    print()"
   ]
  },
  {
   "cell_type": "code",
   "execution_count": 11,
   "metadata": {},
   "outputs": [
    {
     "name": "stdout",
     "output_type": "stream",
     "text": [
      "\n",
      "*\n",
      "**\n",
      "***\n",
      "****\n"
     ]
    }
   ],
   "source": [
    "for i in range(5):\n",
    "    print('*'*i)"
   ]
  },
  {
   "cell_type": "code",
   "execution_count": 14,
   "metadata": {},
   "outputs": [
    {
     "name": "stdout",
     "output_type": "stream",
     "text": [
      "* \n",
      "* * \n",
      "* * * \n",
      "* * * * \n",
      "* * * * * \n"
     ]
    }
   ],
   "source": [
    "for a in range(5):\n",
    "    for b in range(5):\n",
    "        if b<=a:\n",
    "            print('*', end=' ')\n",
    "    print()"
   ]
  },
  {
   "cell_type": "code",
   "execution_count": 21,
   "metadata": {},
   "outputs": [
    {
     "name": "stdout",
     "output_type": "stream",
     "text": [
      "*    \n",
      " *   \n",
      "  *  \n",
      "   * \n",
      "    *\n"
     ]
    }
   ],
   "source": [
    "for i in range(5):\n",
    "    for j in range(5):\n",
    "        if i == j:\n",
    "            print('*', end='')\n",
    "        else : print(' ', end='')\n",
    "    print()"
   ]
  },
  {
   "cell_type": "code",
   "execution_count": 25,
   "metadata": {},
   "outputs": [
    {
     "name": "stdout",
     "output_type": "stream",
     "text": [
      "*****\n",
      " ****\n",
      "  ***\n",
      "   **\n",
      "    *\n"
     ]
    }
   ],
   "source": [
    "for i in range(5):\n",
    "    for j in range(5):\n",
    "        if j >= i:\n",
    "            print('*', end='')\n",
    "        else : print(' ', end='')\n",
    "    print()"
   ]
  },
  {
   "cell_type": "code",
   "execution_count": 40,
   "metadata": {},
   "outputs": [
    {
     "name": "stdout",
     "output_type": "stream",
     "text": [
      "1\n",
      "2\n",
      "Fizz\n",
      "4\n",
      "Buzz\n",
      "Fizz\n",
      "7\n",
      "8\n",
      "Fizz\n",
      "Buzz\n",
      "11\n",
      "Fizz\n",
      "13\n",
      "14\n",
      "FizzBuzz\n",
      "16\n",
      "17\n",
      "Fizz\n",
      "19\n",
      "Buzz\n",
      "Fizz\n",
      "22\n",
      "23\n",
      "Fizz\n",
      "Buzz\n",
      "26\n",
      "Fizz\n",
      "28\n",
      "29\n",
      "FizzBuzz\n",
      "31\n",
      "32\n",
      "Fizz\n",
      "34\n",
      "Buzz\n",
      "Fizz\n",
      "37\n",
      "38\n",
      "Fizz\n",
      "Buzz\n",
      "41\n",
      "Fizz\n",
      "43\n",
      "44\n",
      "FizzBuzz\n",
      "46\n",
      "47\n",
      "Fizz\n",
      "49\n",
      "Buzz\n",
      "Fizz\n",
      "52\n",
      "53\n",
      "Fizz\n",
      "Buzz\n",
      "56\n",
      "Fizz\n",
      "58\n",
      "59\n",
      "FizzBuzz\n",
      "61\n",
      "62\n",
      "Fizz\n",
      "64\n",
      "Buzz\n",
      "Fizz\n",
      "67\n",
      "68\n",
      "Fizz\n",
      "Buzz\n",
      "71\n",
      "Fizz\n",
      "73\n",
      "74\n",
      "FizzBuzz\n",
      "76\n",
      "77\n",
      "Fizz\n",
      "79\n",
      "Buzz\n",
      "Fizz\n",
      "82\n",
      "83\n",
      "Fizz\n",
      "Buzz\n",
      "86\n",
      "Fizz\n",
      "88\n",
      "89\n",
      "FizzBuzz\n",
      "91\n",
      "92\n",
      "Fizz\n",
      "94\n",
      "Buzz\n",
      "Fizz\n",
      "97\n",
      "98\n",
      "Fizz\n",
      "Buzz\n"
     ]
    }
   ],
   "source": [
    "for i in range(1, 101):\n",
    "    if i %3 == 0 and i % 5 == 0:\n",
    "        print('FizzBuzz')\n",
    "    elif i %5 == 0 :\n",
    "        print('Buzz')\n",
    "    elif i % 3 ==0:\n",
    "        print('Fizz')\n",
    "    else : print(i)"
   ]
  },
  {
   "cell_type": "code",
   "execution_count": 42,
   "metadata": {},
   "outputs": [
    {
     "name": "stdout",
     "output_type": "stream",
     "text": [
      "1\n",
      "2\n",
      "Fizz\n",
      "4\n",
      "Buzz\n",
      "Fizz\n",
      "7\n",
      "8\n",
      "Fizz\n",
      "Buzz\n",
      "11\n",
      "Fizz\n",
      "13\n",
      "14\n",
      "FizzBuzz\n",
      "16\n",
      "17\n",
      "Fizz\n",
      "19\n",
      "Buzz\n",
      "Fizz\n",
      "22\n",
      "23\n",
      "Fizz\n",
      "Buzz\n",
      "26\n",
      "Fizz\n",
      "28\n",
      "29\n",
      "FizzBuzz\n",
      "31\n",
      "32\n",
      "Fizz\n",
      "34\n",
      "Buzz\n",
      "Fizz\n",
      "37\n",
      "38\n",
      "Fizz\n",
      "Buzz\n",
      "41\n",
      "Fizz\n",
      "43\n",
      "44\n",
      "FizzBuzz\n",
      "46\n",
      "47\n",
      "Fizz\n",
      "49\n",
      "Buzz\n",
      "Fizz\n",
      "52\n",
      "53\n",
      "Fizz\n",
      "Buzz\n",
      "56\n",
      "Fizz\n",
      "58\n",
      "59\n",
      "FizzBuzz\n",
      "61\n",
      "62\n",
      "Fizz\n",
      "64\n",
      "Buzz\n",
      "Fizz\n",
      "67\n",
      "68\n",
      "Fizz\n",
      "Buzz\n",
      "71\n",
      "Fizz\n",
      "73\n",
      "74\n",
      "FizzBuzz\n",
      "76\n",
      "77\n",
      "Fizz\n",
      "79\n",
      "Buzz\n",
      "Fizz\n",
      "82\n",
      "83\n",
      "Fizz\n",
      "Buzz\n",
      "86\n",
      "Fizz\n",
      "88\n",
      "89\n",
      "FizzBuzz\n",
      "91\n",
      "92\n",
      "Fizz\n",
      "94\n",
      "Buzz\n",
      "Fizz\n",
      "97\n",
      "98\n",
      "Fizz\n",
      "Buzz\n"
     ]
    }
   ],
   "source": [
    "for i in range(1, 101):\n",
    "    print('Fizz'*(i%3==0) + 'Buzz'*(i%5==0) or i)"
   ]
  },
  {
   "cell_type": "code",
   "execution_count": 45,
   "metadata": {},
   "outputs": [
    {
     "name": "stdout",
     "output_type": "stream",
     "text": [
      "1\n",
      "Fizz\n",
      "2\n",
      "3\n",
      "Fizz\n",
      "4\n",
      "5\n",
      "Fizz\n",
      "6\n",
      "7\n",
      "Fizz\n",
      "8\n",
      "9\n",
      "Fizz\n",
      "10\n",
      "FizzBuzz\n",
      "Buzz\n",
      "Fizz\n",
      "12\n",
      "13\n",
      "Fizz\n",
      "14\n",
      "15\n",
      "Fizz\n",
      "16\n",
      "17\n",
      "Fizz\n",
      "18\n",
      "19\n",
      "Fizz\n",
      "20\n",
      "21\n",
      "FizzBuzz\n",
      "Fizz\n",
      "Buzz\n",
      "23\n",
      "Fizz\n",
      "24\n",
      "25\n",
      "Fizz\n",
      "26\n",
      "27\n",
      "Fizz\n",
      "28\n",
      "29\n",
      "Fizz\n",
      "30\n",
      "31\n",
      "Fizz\n",
      "32\n",
      "FizzBuzz\n",
      "Buzz\n",
      "Fizz\n",
      "34\n",
      "35\n",
      "Fizz\n",
      "36\n",
      "37\n",
      "Fizz\n",
      "38\n",
      "39\n",
      "Fizz\n",
      "40\n",
      "41\n",
      "Fizz\n",
      "42\n",
      "43\n",
      "FizzBuzz\n",
      "Fizz\n",
      "Buzz\n",
      "45\n",
      "Fizz\n",
      "46\n",
      "47\n",
      "Fizz\n",
      "48\n",
      "49\n",
      "Fizz\n",
      "50\n",
      "51\n",
      "Fizz\n",
      "52\n",
      "53\n",
      "Fizz\n",
      "54\n",
      "FizzBuzz\n",
      "Buzz\n",
      "Fizz\n",
      "56\n",
      "57\n",
      "Fizz\n",
      "58\n",
      "59\n",
      "Fizz\n",
      "60\n",
      "61\n",
      "Fizz\n",
      "62\n",
      "63\n",
      "Fizz\n",
      "64\n",
      "65\n",
      "FizzBuzz\n",
      "Fizz\n",
      "Buzz\n",
      "67\n",
      "Fizz\n",
      "68\n",
      "69\n",
      "Fizz\n",
      "70\n",
      "71\n",
      "Fizz\n",
      "72\n",
      "73\n",
      "Fizz\n",
      "74\n",
      "75\n",
      "Fizz\n",
      "76\n",
      "FizzBuzz\n",
      "Buzz\n",
      "Fizz\n",
      "78\n",
      "79\n",
      "Fizz\n",
      "80\n",
      "81\n",
      "Fizz\n",
      "82\n",
      "83\n",
      "Fizz\n",
      "84\n",
      "85\n",
      "Fizz\n",
      "86\n",
      "87\n",
      "FizzBuzz\n",
      "Fizz\n",
      "Buzz\n",
      "89\n",
      "Fizz\n",
      "90\n",
      "91\n",
      "Fizz\n",
      "92\n",
      "93\n",
      "Fizz\n",
      "94\n",
      "95\n",
      "Fizz\n",
      "96\n",
      "97\n",
      "Fizz\n",
      "98\n",
      "FizzBuzz\n",
      "Buzz\n",
      "Fizz\n",
      "100\n"
     ]
    }
   ],
   "source": [
    "for i in range(1, 101):\n",
    "    if i % 1 ==0 and i % 11 == 0 : \n",
    "        print('FizzBuzz')\n",
    "    if i % 2 == 0 :\n",
    "        print('Fizz')\n",
    "    if i % 11 == 0 : \n",
    "        print('Buzz')\n",
    "    else : print(i)"
   ]
  },
  {
   "cell_type": "code",
   "execution_count": 50,
   "metadata": {},
   "outputs": [],
   "source": [
    "import turtle as t \n",
    "t.shape('turtle')\n",
    "t.color('yellow')\n",
    "t.begin_fill()\n",
    "for i in range(6):\n",
    "    t.forward(100)\n",
    "    t.right(60)\n",
    "t.end_fill()"
   ]
  },
  {
   "cell_type": "code",
   "execution_count": 3,
   "metadata": {},
   "outputs": [],
   "source": [
    "import turtle as t \n",
    "t.shape('turtle')\n",
    "t.color('blue')\n",
    "t.begin_fill()\n",
    "for i in range(10):\n",
    "    t.forward(100)\n",
    "    if i % 2 ==0 : \n",
    "        t.right(72)\n",
    "    else : t.right(144)\n",
    "t.end_fill()\n",
    "        "
   ]
  },
  {
   "cell_type": "code",
   "execution_count": 6,
   "metadata": {},
   "outputs": [
    {
     "name": "stdout",
     "output_type": "stream",
     "text": [
      "150\n",
      "7\n"
     ]
    }
   ],
   "source": [
    "import turtle as t \n",
    "\n",
    "length = int(input())\n",
    "angle = int(input())\n",
    "\n",
    "\n",
    "t.shape('turtle')\n",
    "t.color('blue')\n",
    "t.begin_fill()\n",
    "for i in range(angle*2):\n",
    "    t.forward(length)\n",
    "    if i % 2 ==0 : \n",
    "        t.right(360/angle)\n",
    "    else : t.right((360/angle)*2)\n",
    "t.end_fill()\n",
    "        "
   ]
  },
  {
   "cell_type": "code",
   "execution_count": 7,
   "metadata": {},
   "outputs": [
    {
     "name": "stdout",
     "output_type": "stream",
     "text": [
      "76\n",
      "1 는 num의 약수입니다.\n",
      "2 는 num의 약수입니다.\n",
      "4 는 num의 약수입니다.\n",
      "19 는 num의 약수입니다.\n",
      "38 는 num의 약수입니다.\n",
      "76 는 num의 약수입니다.\n"
     ]
    }
   ],
   "source": [
    "num = int(input())\n",
    "for i in range(1, num+1):\n",
    "    if num % i ==0:\n",
    "        print(i, '는 num의 약수입니다.', sep=' ')"
   ]
  }
 ],
 "metadata": {
  "kernelspec": {
   "display_name": "Python 3",
   "language": "python",
   "name": "python3"
  },
  "language_info": {
   "codemirror_mode": {
    "name": "ipython",
    "version": 3
   },
   "file_extension": ".py",
   "mimetype": "text/x-python",
   "name": "python",
   "nbconvert_exporter": "python",
   "pygments_lexer": "ipython3",
   "version": "3.7.6"
  }
 },
 "nbformat": 4,
 "nbformat_minor": 4
}
