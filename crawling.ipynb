{
 "cells": [
  {
   "cell_type": "code",
   "execution_count": 2,
   "metadata": {},
   "outputs": [
    {
     "name": "stdout",
     "output_type": "stream",
     "text": [
      "[['강릉', '23.8', '64'], ['강진군', '22.1', '81'], ['강화', '23.8', '66'], ['거제', '21.8', '78'], ['거창', '22.2', '78'], ['경주시', '22.7', '73'], ['고산', '19.5', '98'], ['고창', '20.8', '89'], ['고창군', '20.2', '90'], ['고흥', '22.4', '76'], ['광양시', '22.2', '74'], ['광주', '22.0', '88'], ['구미', '24.3', '76'], ['군산', '22.5', '77'], ['금산', '21.7', '79'], ['김해시', '22.6', '78'], ['남원', '22.3', '79'], ['남해', '22.4', '76'], ['대관령', '20.5', '65'], ['대구', '23.3', '64'], ['대전', '24.3', '74'], ['동두천', '27.6', '55'], ['동해', '19.7', '78'], ['목포', '20.8', '88'], ['문경', '25.5', '58'], ['밀양', '22.6', '70'], ['백령도', '22.0', '87'], ['보령', '23.9', '62'], ['보성군', '23.2', '72'], ['보은', '24.7', '64'], ['봉화', '22.2', '70'], ['부산', '20.9', '78'], ['부안', '22.2', '80'], ['부여', '24.3', '69'], ['북강릉', '20.6', '76'], ['북창원', '22.9', '77'], ['북춘천', '29.0', '41'], ['산청', '22.6', '77'], ['상주', '24.7', '66'], ['서귀포', '22.4', '94'], ['서산', '25.4', '59'], ['서울', '27.2', '57'], ['성산', '20.7', '91'], ['세종', '24.5', '64'], ['속초', '22.9', '75'], ['수원', '26.0', '64'], ['순창군', '22.1', '78'], ['순천', '20.5', '88'], ['안동', '25.1', '60'], ['양산시', '23.3', '74'], ['양평', '28.0', '46'], ['여수', '22.4', '77'], ['영광군', '20.8', '87'], ['영덕', '21.6', '75'], ['영월', '25.5', '52'], ['영주', '24.4', '64'], ['영천', '22.4', '72'], ['완도', '21.6', '78'], ['울릉도', '21.6', '85'], ['울산', '20.4', '87'], ['울진', '20.2', '83'], ['원주', '26.3', '45'], ['의령군', '24.5', '71'], ['의성', '24.8', '64'], ['이천', '26.9', '52'], ['인제', '28.4', '41'], ['인천', '24.4', '65'], ['임실', '20.5', '86'], ['장수', '19.5', '98'], ['장흥', '21.6', '80'], ['전주', '20.0', '94'], ['정선군', '25.5', '57'], ['정읍', '20.8', '83'], ['제주', '20.3', '91'], ['제천', '26.3', '51'], ['진도군', '20.6', '90'], ['진주', '23.6', '76'], ['창원', '21.8', '76'], ['천안', '25.5', '62'], ['철원', '27.6', '48'], ['청송군', '22.4', '82'], ['청주', '26.6', '52'], ['추풍령', '23.1', '60'], ['춘천', '30.0', '41'], ['충주', '27.1', '50'], ['태백', '22.0', '55'], ['통영', '22.6', '72'], ['파주', '26.4', '61'], ['포항', '21.6', '81'], ['함양군', '23.1', '71'], ['합천', '23.3', '78'], ['해남', '20.7', '91'], ['홍성', '24.8', '66'], ['홍천', '28.1', '41'], ['흑산도', '19.8', '90']]\n"
     ]
    }
   ],
   "source": [
    "import requests\n",
    "from bs4 import BeautifulSoup\n",
    "\n",
    "response = requests.get('https://www.weather.go.kr/weather/observation/currentweather.jsp')\n",
    "soup=BeautifulSoup(response.content, 'html.parser')\n",
    "table=soup.find('table', {'class', 'table_develop3'})\n",
    "data = []\n",
    "for tr in table.find_all('tr'):\n",
    "    tds = list(tr.find_all('td'))\n",
    "    for td in tds :\n",
    "        if td.find('a'):\n",
    "            point=td.find('a').text\n",
    "            temperature =tds[5].text\n",
    "            humidity=tds[9].text\n",
    "            data.append([point, temperature, humidity])\n",
    "print(data)"
   ]
  },
  {
   "cell_type": "code",
   "execution_count": null,
   "metadata": {},
   "outputs": [],
   "source": [
    "with open('weather.csv', 'w') as file:\n",
    "    file.write('point, temperature, humidity\\n')\n",
    "    for i in data:\n",
    "        file.write('{0}, {1}, {2}\\n'.format(i[0], i[1], i[2]))\n"
   ]
  },
  {
   "cell_type": "code",
   "execution_count": 7,
   "metadata": {},
   "outputs": [
    {
     "data": {
      "text/html": [
       "<div>\n",
       "<style scoped>\n",
       "    .dataframe tbody tr th:only-of-type {\n",
       "        vertical-align: middle;\n",
       "    }\n",
       "\n",
       "    .dataframe tbody tr th {\n",
       "        vertical-align: top;\n",
       "    }\n",
       "\n",
       "    .dataframe thead th {\n",
       "        text-align: right;\n",
       "    }\n",
       "</style>\n",
       "<table border=\"1\" class=\"dataframe\">\n",
       "  <thead>\n",
       "    <tr style=\"text-align: right;\">\n",
       "      <th></th>\n",
       "      <th>temperature</th>\n",
       "      <th>humidity</th>\n",
       "    </tr>\n",
       "    <tr>\n",
       "      <th>point</th>\n",
       "      <th></th>\n",
       "      <th></th>\n",
       "    </tr>\n",
       "  </thead>\n",
       "  <tbody>\n",
       "    <tr>\n",
       "      <th>서울</th>\n",
       "      <td>27.2</td>\n",
       "      <td>57</td>\n",
       "    </tr>\n",
       "    <tr>\n",
       "      <th>인천</th>\n",
       "      <td>24.4</td>\n",
       "      <td>65</td>\n",
       "    </tr>\n",
       "    <tr>\n",
       "      <th>대전</th>\n",
       "      <td>24.3</td>\n",
       "      <td>74</td>\n",
       "    </tr>\n",
       "    <tr>\n",
       "      <th>대구</th>\n",
       "      <td>23.3</td>\n",
       "      <td>64</td>\n",
       "    </tr>\n",
       "    <tr>\n",
       "      <th>광주</th>\n",
       "      <td>22.0</td>\n",
       "      <td>88</td>\n",
       "    </tr>\n",
       "    <tr>\n",
       "      <th>부산</th>\n",
       "      <td>20.9</td>\n",
       "      <td>78</td>\n",
       "    </tr>\n",
       "    <tr>\n",
       "      <th>울산</th>\n",
       "      <td>20.4</td>\n",
       "      <td>87</td>\n",
       "    </tr>\n",
       "  </tbody>\n",
       "</table>\n",
       "</div>"
      ],
      "text/plain": [
       "        temperature   humidity\n",
       "point                         \n",
       "서울             27.2         57\n",
       "인천             24.4         65\n",
       "대전             24.3         74\n",
       "대구             23.3         64\n",
       "광주             22.0         88\n",
       "부산             20.9         78\n",
       "울산             20.4         87"
      ]
     },
     "execution_count": 7,
     "metadata": {},
     "output_type": "execute_result"
    }
   ],
   "source": [
    "%matplotlib inline\n",
    "import pandas as pd\n",
    "import matplotlib as mpl\n",
    "import matplotlib.pyplot as plt\n",
    "\n",
    "df = pd.read_csv('weather.csv', index_col='point', encoding='euc-kr')\n",
    "city_df = df.loc[['서울', '인천', '대전', '대구', '광주', '부산', '울산']]\n",
    "city_df\n"
   ]
  },
  {
   "cell_type": "code",
   "execution_count": 10,
   "metadata": {},
   "outputs": [
    {
     "data": {
      "text/plain": [
       "<matplotlib.legend.Legend at 0x209f7c43388>"
      ]
     },
     "execution_count": 10,
     "metadata": {},
     "output_type": "execute_result"
    },
    {
     "data": {
      "image/png": "[encoded data removed]",
      "text/plain": [
       "<Figure size 864x288 with 1 Axes>"
      ]
     },
     "metadata": {
      "needs_background": "light"
     },
     "output_type": "display_data"
    }
   ],
   "source": [
    "font_name=mpl.font_manager.FontProperties(fname='C:/Windows/Fonts/malgun.ttf').get_name()\n",
    "mpl.rc('font', family=font_name)\n",
    "ax = city_df.plot(kind='bar', title='주요도시 날씨', figsize=(12,4), legend=True, fontsize=12)\n",
    "ax.set_xlabel('도시', fontsize=12)\n",
    "ax.set_ylabel('기온/습도', fontsize=12)\n",
    "ax.legend(['기온', '습도'], fontsize=12)"
   ]
  }
 ],
 "metadata": {
  "kernelspec": {
   "display_name": "Python 3",
   "language": "python",
   "name": "python3"
  },
  "language_info": {
   "codemirror_mode": {
    "name": "ipython",
    "version": 3
   },
   "file_extension": ".py",
   "mimetype": "text/x-python",
   "name": "python",
   "nbconvert_exporter": "python",
   "pygments_lexer": "ipython3",
   "version": "3.7.6"
  }
 },
 "nbformat": 4,
 "nbformat_minor": 4
}
